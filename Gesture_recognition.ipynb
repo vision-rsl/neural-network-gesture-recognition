{
  "cells": [
    {
      "cell_type": "code",
      "source": [
        "pip install Pillow"
      ],
      "metadata": {
        "colab": {
          "base_uri": "https://localhost:8080/"
        },
        "id": "UDlb8zqH4_OM",
        "outputId": "f7ecc545-e570-4d83-b205-ef2b48f1b90c"
      },
      "execution_count": 16,
      "outputs": [
        {
          "output_type": "stream",
          "name": "stdout",
          "text": [
            "Requirement already satisfied: Pillow in /usr/local/lib/python3.7/dist-packages (7.1.2)\n"
          ]
        }
      ]
    },
    {
      "cell_type": "code",
      "execution_count": 17,
      "metadata": {
        "id": "HuShVSIB2dCW"
      },
      "outputs": [],
      "source": [
        "import numpy as np\n",
        "import os\n",
        "from imageio import imread\n",
        "import datetime\n",
        "import os\n",
        "import warnings\n",
        "warnings.filterwarnings(\"ignore\")\n",
        "import abc\n",
        "from sys import getsizeof\n",
        "import tensorflow as tf "
      ]
    },
    {
      "cell_type": "markdown",
      "metadata": {
        "id": "im1FbgzL2dCQ"
      },
      "source": [
        "# Gesture Recognition\n",
        "In this group project, you are going to build a 3D Conv model that will be able to predict the 5 gestures correctly. Please import the following libraries to get started."
      ]
    },
    {
      "cell_type": "markdown",
      "metadata": {
        "id": "b-qQ8zQQ2dCY"
      },
      "source": [
        "We set the random seed so that the results don't vary drastically."
      ]
    },
    {
      "cell_type": "code",
      "execution_count": 18,
      "metadata": {
        "id": "JyXL7ZvT2dCZ"
      },
      "outputs": [],
      "source": [
        "np.random.seed(30)\n",
        "import random as rn\n",
        "rn.seed(30)\n",
        "from keras import backend as K\n",
        "import tensorflow as tf\n",
        "tf.random.set_seed(30)"
      ]
    },
    {
      "cell_type": "code",
      "source": [
        "import cv2\n",
        "import matplotlib.pyplot as plt\n",
        "% matplotlib inline"
      ],
      "metadata": {
        "id": "TZIvEshU7BaE"
      },
      "execution_count": 19,
      "outputs": []
    },
    {
      "cell_type": "code",
      "source": [
        "from google.colab import drive\n",
        "drive.mount('/content/gdrive')"
      ],
      "metadata": {
        "id": "nzuzKz83_Y84",
        "colab": {
          "base_uri": "https://localhost:8080/"
        },
        "outputId": "6f76fff8-7acd-4c42-d65b-1f0af7f0527b"
      },
      "execution_count": 20,
      "outputs": [
        {
          "output_type": "stream",
          "name": "stdout",
          "text": [
            "Mounted at /content/gdrive\n"
          ]
        }
      ]
    },
    {
      "cell_type": "code",
      "source": [
        "project_folder='/content/gdrive/My Drive/Colab Notebooks/GestureRecognition/Project/Project_data'"
      ],
      "metadata": {
        "id": "haQmTmlmMEbV"
      },
      "execution_count": 21,
      "outputs": []
    },
    {
      "cell_type": "markdown",
      "metadata": {
        "id": "nnx1UjYp2dCa"
      },
      "source": [
        "In this block, you read the folder names for training and validation. You also set the `batch_size` here. Note that you set the batch size in such a way that you are able to use the GPU in full capacity. You keep increasing the batch size until the machine throws an error."
      ]
    },
    {
      "cell_type": "code",
      "execution_count": 22,
      "metadata": {
        "id": "aOEZmGuq2dCb"
      },
      "outputs": [],
      "source": [
        "train_doc = np.random.permutation(open(project_folder + '/' + 'train.csv').readlines())\n",
        "val_doc = np.random.permutation(open(project_folder + '/' + 'val.csv').readlines())\n",
        "batch_size = 20\n",
        "train_path = project_folder + '/' + 'train'\n",
        "val_path =  project_folder + '/' + 'val'"
      ]
    },
    {
      "cell_type": "code",
      "source": [
        "#image properties \n",
        "image_height=100\n",
        "image_width=100\n",
        "channels=3\n",
        "num_classes=5\n",
        "total_frames=30\n",
        "frames_to_sample=30\n",
        "batch_size=20\n",
        "num_epochs=20\n",
        "print ('# epochs =', num_epochs)"
      ],
      "metadata": {
        "colab": {
          "base_uri": "https://localhost:8080/"
        },
        "id": "E7a9y_GzPbNp",
        "outputId": "aaa5e525-d2c8-439f-f7e0-6916b26c5b25"
      },
      "execution_count": null,
      "outputs": [
        {
          "output_type": "stream",
          "name": "stdout",
          "text": [
            "# epochs = 20\n"
          ]
        }
      ]
    },
    {
      "cell_type": "code",
      "source": [
        "num_train_sequences = len(train_doc)"
      ],
      "metadata": {
        "id": "cIR_BoqqM1H5"
      },
      "execution_count": 30,
      "outputs": []
    },
    {
      "cell_type": "code",
      "source": [
        "num_val_sequences = len(val_doc)"
      ],
      "metadata": {
        "id": "k3A4sVZHM5pC"
      },
      "execution_count": 31,
      "outputs": []
    },
    {
      "cell_type": "code",
      "source": [
        "print('# training sequences =', num_train_sequences)"
      ],
      "metadata": {
        "colab": {
          "base_uri": "https://localhost:8080/"
        },
        "id": "TWQGlUgnNXWC",
        "outputId": "99687449-a3ee-4917-d283-2cb2d0eb74eb"
      },
      "execution_count": 32,
      "outputs": [
        {
          "output_type": "stream",
          "name": "stdout",
          "text": [
            "# training sequences = 663\n"
          ]
        }
      ]
    },
    {
      "cell_type": "code",
      "source": [
        "print(num_val_sequences)\n",
        "print('# validation sequences =', num_val_sequences)"
      ],
      "metadata": {
        "colab": {
          "base_uri": "https://localhost:8080/"
        },
        "id": "SbrrIUebNb2I",
        "outputId": "2cec2efc-8bdd-4cfa-9212-90291d25cce7"
      },
      "execution_count": 33,
      "outputs": [
        {
          "output_type": "stream",
          "name": "stdout",
          "text": [
            "100\n",
            "# validation sequences = 100\n"
          ]
        }
      ]
    },
    {
      "cell_type": "markdown",
      "metadata": {
        "id": "EN_l90692dCc"
      },
      "source": [
        "## Generator\n",
        "This is one of the most important part of the code. The overall structure of the generator has been given. In the generator, you are going to preprocess the images as you have images of 2 different dimensions as well as create a batch of video frames. You have to experiment with `img_idx`, `y`,`z` and normalization such that you get high accuracy."
      ]
    },
    {
      "cell_type": "code",
      "source": [
        "img_idx = np.round(np.linspace(0,total_frames-1,frames_to_sample)).astype(int)\n",
        "print(img_idx)"
      ],
      "metadata": {
        "colab": {
          "base_uri": "https://localhost:8080/"
        },
        "id": "inBAxbgSYnwN",
        "outputId": "f6b53e99-5c80-4ba7-c75d-1faf8a268434"
      },
      "execution_count": 18,
      "outputs": [
        {
          "output_type": "stream",
          "name": "stdout",
          "text": [
            "[ 0  2  4  6  8 10 12 14 15 17 19 21 23 25 27 29]\n"
          ]
        }
      ]
    },
    {
      "cell_type": "code",
      "execution_count": 10,
      "metadata": {
        "id": "2qicWhoH2dCd"
      },
      "outputs": [],
      "source": [
        "def generator(source_path, folder_list, batch_size,augment = False):\n",
        "    print( 'Source path = ', source_path, '; batch size =', batch_size)\n",
        "    #create a list of image numbers you want to use for a particular video\n",
        "    img_idx = np.round(np.linspace(0,total_frames-1,frames_to_sample)).astype(int)  \n",
        "    while True:\n",
        "        t = np.random.permutation(folder_list)\n",
        "        # calculate the number of batches\n",
        "        num_batches =  len(t)//batch_size\n",
        "        for batch in range(num_batches): \n",
        "                batch_data, batch_labels= process_batch(source_path,t,batch,batch_size,img_idx)\n",
        "                yield batch_data, batch_labels \n",
        "\n",
        "        remaining_seq=len(t)%batch_size\n",
        "        \n",
        "        if (remaining_seq != 0):\n",
        "                batch_data, batch_labels= process_batch(source_path,t,num_batches,batch_size,img_idx,remaining_seq)\n",
        "                yield batch_data, batch_labels       \n",
        "\n",
        "    \n",
        "        # write the code for the remaining data points which are left after full batches\n"
      ]
    },
    {
      "cell_type": "code",
      "source": [
        "def process_batch(source_path,t,batch,batch_size,img_idx,remaining_seq=0):\n",
        "    \n",
        "        seq_len = remaining_seq if remaining_seq else batch_size\n",
        "    \n",
        "        batch_data = np.zeros((seq_len,len(img_idx),image_height,image_width,channels)) \n",
        "        batch_labels = np.zeros((seq_len,num_classes))    \n",
        "        \n",
        "        for folder in range(seq_len): \n",
        "            imgs = os.listdir(source_path+'/'+ t[folder + (batch*batch_size)].split(';')[0]) \n",
        "            for idx,item in enumerate(img_idx):\n",
        "                #performing image reading and resizing\n",
        "                image = imread(source_path+'/'+ t[folder + (batch*batch_size)].strip().split(';')[0]+'/'+imgs[item]).astype(np.float32)\n",
        "                #crop the images and resize them. Note that the images are of 2 different shape \n",
        "                #and the conv3D will throw error if the inputs in a batch have different shapes\n",
        "                size=(image_height,image_width)\n",
        "                image_resized=cv2.resize(image, size)          \n",
        "                batch_data[folder,idx,:,:,0] =(image_resized[:,:,0])/255\n",
        "                batch_data[folder,idx,:,:,1] = (image_resized[:,:,1])/255\n",
        "                batch_data[folder,idx,:,:,2] = (image_resized[:,:,2])/255            \n",
        "            batch_labels[folder, int(t[folder + (batch*batch_size)].strip().split(';')[2])] = 1          \n",
        "        return(batch_data,batch_labels)"
      ],
      "metadata": {
        "id": "aEm-QCrZfu0Q"
      },
      "execution_count": 11,
      "outputs": []
    },
    {
      "cell_type": "markdown",
      "metadata": {
        "id": "9lVmLI1p2dCf"
      },
      "source": [
        "Note here that a video is represented above in the generator as (number of images, height, width, number of channels). Take this into consideration while creating the model architecture."
      ]
    },
    {
      "cell_type": "code",
      "execution_count": 27,
      "metadata": {
        "id": "yrn7XwG-2dCh"
      },
      "outputs": [],
      "source": [
        "curr_dt_time = datetime.datetime.now()"
      ]
    },
    {
      "cell_type": "markdown",
      "metadata": {
        "id": "6BEjmhid2dCi"
      },
      "source": [
        "## Model\n",
        "Here you make the model using different functionalities that Keras provides. Remember to use `Conv3D` and `MaxPooling3D` and not `Conv2D` and `Maxpooling2D` for a 3D convolution model. You would want to use `TimeDistributed` while building a Conv2D + RNN model. Also remember that the last layer is the softmax. Design the network in such a way that the model is able to give good accuracy on the least number of parameters so that it can fit in the memory of the webcam."
      ]
    },
    {
      "cell_type": "code",
      "execution_count": 7,
      "metadata": {
        "id": "4GVwfKOp2dCj"
      },
      "outputs": [],
      "source": [
        "from keras.models import Sequential, Model\n",
        "from keras.layers import Dense, GRU, Flatten, TimeDistributed, Flatten, BatchNormalization, Activation\n",
        "from keras.layers.convolutional import Conv3D, MaxPooling3D, Conv2D, MaxPooling2D\n",
        "from keras.layers.recurrent import LSTM\n",
        "from keras.callbacks import ModelCheckpoint, ReduceLROnPlateau, EarlyStopping\n",
        "from keras import optimizers\n",
        "from keras.layers import Dropout\n",
        "\n",
        "#write your model here"
      ]
    },
    {
      "cell_type": "code",
      "source": [
        "#image properties \n",
        "image_height=160\n",
        "image_width=160\n",
        "channels=3\n",
        "num_classes=5\n",
        "total_frames=30\n",
        "frames_to_sample=20\n",
        "batch_size=40\n",
        "num_epochs=15\n",
        "dense_neurons=64\n",
        "dropout=0.25\n",
        "filtersize=(3,3,3)\n",
        "print ('# epochs =', num_epochs)"
      ],
      "metadata": {
        "colab": {
          "base_uri": "https://localhost:8080/"
        },
        "id": "zgu0Cc35qRn3",
        "outputId": "69562b7f-3aea-472b-b1b5-efa15ff0f08e"
      },
      "execution_count": null,
      "outputs": [
        {
          "output_type": "stream",
          "name": "stdout",
          "text": [
            "# epochs = 15\n"
          ]
        }
      ]
    },
    {
      "cell_type": "code",
      "source": [
        "model = Sequential()\n",
        "model.add(Conv3D(16, (3, 3, 3), padding='same',\n",
        "input_shape=(frames_to_sample,image_height,image_width,channels)))\n",
        "model.add(Activation('relu'))\n",
        "model.add(BatchNormalization())\n",
        "model.add(MaxPooling3D(pool_size=(2, 2, 2)))\n"
      ],
      "metadata": {
        "id": "BWWFPrLrsap4"
      },
      "execution_count": 41,
      "outputs": []
    },
    {
      "cell_type": "code",
      "source": [
        "model.add(Conv3D(32, (2, 2, 2), padding='same'))\n",
        "model.add(Activation('relu'))\n",
        "model.add(BatchNormalization())\n",
        "model.add(MaxPooling3D(pool_size=(2, 2, 2)))"
      ],
      "metadata": {
        "id": "i96wLqq3tCUa"
      },
      "execution_count": 42,
      "outputs": []
    },
    {
      "cell_type": "code",
      "source": [
        "model.add(Conv3D(64, (2, 2, 2), padding='same'))\n",
        "model.add(Activation('relu'))\n",
        "model.add(BatchNormalization())\n",
        "model.add(MaxPooling3D(pool_size=(2, 2, 2)))\n"
      ],
      "metadata": {
        "id": "x8goo3WUtLQJ"
      },
      "execution_count": 43,
      "outputs": []
    },
    {
      "cell_type": "code",
      "source": [
        "model.add(Conv3D(128, (2, 2, 2), padding='same'))\n",
        "model.add(Activation('relu'))\n",
        "model.add(BatchNormalization())\n",
        "model.add(MaxPooling3D(pool_size=(2, 2, 2)))"
      ],
      "metadata": {
        "id": "AAqTK7GythWf"
      },
      "execution_count": 44,
      "outputs": []
    },
    {
      "cell_type": "code",
      "source": [
        "model.add(Flatten())\n",
        "model.add(Dense(128,activation='relu'))\n",
        "model.add(BatchNormalization())\n",
        "model.add(Dropout(0.5))"
      ],
      "metadata": {
        "id": "J5N0b2X2tpet"
      },
      "execution_count": 45,
      "outputs": []
    },
    {
      "cell_type": "code",
      "source": [
        "model.add(Dense(64,activation='relu'))\n",
        "model.add(BatchNormalization())\n",
        "model.add(Dropout(0.25))"
      ],
      "metadata": {
        "id": "zusAZ4RsuUzK"
      },
      "execution_count": 46,
      "outputs": []
    },
    {
      "cell_type": "code",
      "source": [
        "model.add(Dense(num_classes,activation='softmax'))\n",
        "\n",
        "optimiser = 'adam'\n",
        "        #optimiser = 'sgd'\n",
        "model.compile(optimizer=optimiser, loss='categorical_crossentropy', metrics=['categorical_accuracy'])"
      ],
      "metadata": {
        "id": "3EM8a6pAub5N"
      },
      "execution_count": 47,
      "outputs": []
    },
    {
      "cell_type": "markdown",
      "metadata": {
        "id": "fOFGydmU2dCj"
      },
      "source": [
        "Now that you have written the model, the next step is to `compile` the model. When you print the `summary` of the model, you'll see the total number of parameters you have to train."
      ]
    },
    {
      "cell_type": "code",
      "execution_count": 48,
      "metadata": {
        "scrolled": true,
        "id": "dwNPkPoo2dCk",
        "colab": {
          "base_uri": "https://localhost:8080/"
        },
        "outputId": "98d75854-4948-4f15-f507-c5d2d5905c4d"
      },
      "outputs": [
        {
          "output_type": "stream",
          "name": "stdout",
          "text": [
            "Model: \"sequential_1\"\n",
            "_________________________________________________________________\n",
            " Layer (type)                Output Shape              Param #   \n",
            "=================================================================\n",
            " conv3d (Conv3D)             (None, 16, 120, 120, 16)  1312      \n",
            "                                                                 \n",
            " activation (Activation)     (None, 16, 120, 120, 16)  0         \n",
            "                                                                 \n",
            " batch_normalization_1 (Batc  (None, 16, 120, 120, 16)  64       \n",
            " hNormalization)                                                 \n",
            "                                                                 \n",
            " max_pooling3d (MaxPooling3D  (None, 8, 60, 60, 16)    0         \n",
            " )                                                               \n",
            "                                                                 \n",
            " conv3d_1 (Conv3D)           (None, 8, 60, 60, 32)     4128      \n",
            "                                                                 \n",
            " activation_1 (Activation)   (None, 8, 60, 60, 32)     0         \n",
            "                                                                 \n",
            " batch_normalization_2 (Batc  (None, 8, 60, 60, 32)    128       \n",
            " hNormalization)                                                 \n",
            "                                                                 \n",
            " max_pooling3d_1 (MaxPooling  (None, 4, 30, 30, 32)    0         \n",
            " 3D)                                                             \n",
            "                                                                 \n",
            " conv3d_2 (Conv3D)           (None, 4, 30, 30, 64)     16448     \n",
            "                                                                 \n",
            " activation_2 (Activation)   (None, 4, 30, 30, 64)     0         \n",
            "                                                                 \n",
            " batch_normalization_3 (Batc  (None, 4, 30, 30, 64)    256       \n",
            " hNormalization)                                                 \n",
            "                                                                 \n",
            " max_pooling3d_2 (MaxPooling  (None, 2, 15, 15, 64)    0         \n",
            " 3D)                                                             \n",
            "                                                                 \n",
            " conv3d_3 (Conv3D)           (None, 2, 15, 15, 128)    65664     \n",
            "                                                                 \n",
            " activation_3 (Activation)   (None, 2, 15, 15, 128)    0         \n",
            "                                                                 \n",
            " batch_normalization_4 (Batc  (None, 2, 15, 15, 128)   512       \n",
            " hNormalization)                                                 \n",
            "                                                                 \n",
            " max_pooling3d_3 (MaxPooling  (None, 1, 7, 7, 128)     0         \n",
            " 3D)                                                             \n",
            "                                                                 \n",
            " flatten_1 (Flatten)         (None, 6272)              0         \n",
            "                                                                 \n",
            " dense_2 (Dense)             (None, 128)               802944    \n",
            "                                                                 \n",
            " batch_normalization_5 (Batc  (None, 128)              512       \n",
            " hNormalization)                                                 \n",
            "                                                                 \n",
            " dropout_2 (Dropout)         (None, 128)               0         \n",
            "                                                                 \n",
            " dense_3 (Dense)             (None, 64)                8256      \n",
            "                                                                 \n",
            " batch_normalization_6 (Batc  (None, 64)               256       \n",
            " hNormalization)                                                 \n",
            "                                                                 \n",
            " dropout_3 (Dropout)         (None, 64)                0         \n",
            "                                                                 \n",
            " dense_4 (Dense)             (None, 5)                 325       \n",
            "                                                                 \n",
            "=================================================================\n",
            "Total params: 900,805\n",
            "Trainable params: 899,941\n",
            "Non-trainable params: 864\n",
            "_________________________________________________________________\n",
            "None\n"
          ]
        }
      ],
      "source": [
        "print (model.summary())"
      ]
    },
    {
      "cell_type": "markdown",
      "metadata": {
        "id": "_RWQQam12dCk"
      },
      "source": [
        "Let us create the `train_generator` and the `val_generator` which will be used in `.fit_generator`."
      ]
    },
    {
      "cell_type": "code",
      "execution_count": 49,
      "metadata": {
        "id": "8NMoo-Um2dCk"
      },
      "outputs": [],
      "source": [
        "train_generator = generator(train_path, train_doc, batch_size)\n",
        "val_generator = generator(val_path, val_doc, batch_size)"
      ]
    },
    {
      "cell_type": "code",
      "execution_count": 50,
      "metadata": {
        "id": "DXKWQ0a12dCl",
        "colab": {
          "base_uri": "https://localhost:8080/"
        },
        "outputId": "7d82bb30-567d-4983-a120-ab18ca22a35f"
      },
      "outputs": [
        {
          "output_type": "stream",
          "name": "stdout",
          "text": [
            "WARNING:tensorflow:`period` argument is deprecated. Please use `save_freq` to specify the frequency in number of batches seen.\n"
          ]
        }
      ],
      "source": [
        "model_name = 'model_init' + '_' + str(curr_dt_time).replace(' ','').replace(':','_') + '/'\n",
        "    \n",
        "if not os.path.exists(model_name):\n",
        "    os.mkdir(model_name)\n",
        "        \n",
        "filepath = model_name + 'model-{epoch:05d}-{loss:.5f}-{categorical_accuracy:.5f}-{val_loss:.5f}-{val_categorical_accuracy:.5f}.h5'\n",
        "\n",
        "checkpoint = ModelCheckpoint(filepath, monitor='val_loss', verbose=1, save_best_only=False, save_weights_only=False, mode='auto', period=1)\n",
        "\n",
        "LR = ReduceLROnPlateau(monitor='val_loss', factor=0.2, verbose=1, patience=4)\n",
        "callbacks_list = [checkpoint, LR]"
      ]
    },
    {
      "cell_type": "markdown",
      "metadata": {
        "id": "VRvQJK1N2dCl"
      },
      "source": [
        "The `steps_per_epoch` and `validation_steps` are used by `fit_generator` to decide the number of next() calls it need to make."
      ]
    },
    {
      "cell_type": "code",
      "execution_count": 51,
      "metadata": {
        "id": "bVDM50V_2dCl"
      },
      "outputs": [],
      "source": [
        "if (num_train_sequences%batch_size) == 0:\n",
        "    steps_per_epoch = int(num_train_sequences/batch_size)\n",
        "else:\n",
        "    steps_per_epoch = (num_train_sequences//batch_size) + 1\n",
        "\n",
        "if (num_val_sequences%batch_size) == 0:\n",
        "    validation_steps = int(num_val_sequences/batch_size)\n",
        "else:\n",
        "    validation_steps = (num_val_sequences//batch_size) + 1"
      ]
    },
    {
      "cell_type": "markdown",
      "metadata": {
        "id": "yVaxuVfw2dCm"
      },
      "source": [
        "Let us now fit the model. This will start training the model and with the help of the checkpoints, you'll be able to save the model at the end of each epoch."
      ]
    },
    {
      "cell_type": "code",
      "execution_count": 52,
      "metadata": {
        "id": "_j6j9Tvs2dCn",
        "colab": {
          "base_uri": "https://localhost:8080/"
        },
        "outputId": "a1aafff6-a4da-46a5-bf6d-982891845235"
      },
      "outputs": [
        {
          "output_type": "stream",
          "name": "stdout",
          "text": [
            "Source path =  /content/gdrive/My Drive/Colab Notebooks/GestureRecognition/Project/Project_data/train ; batch size = 20\n",
            "Epoch 1/20\n",
            "34/34 [==============================] - ETA: 0s - loss: 1.5398 - categorical_accuracy: 0.4208Source path =  /content/gdrive/My Drive/Colab Notebooks/GestureRecognition/Project/Project_data/val ; batch size = 20\n",
            "\n",
            "Epoch 1: saving model to model_init_2022-05-1519_52_59.500549/model-00001-1.53982-0.42081-4.30534-0.16000.h5\n",
            "34/34 [==============================] - 48s 1s/step - loss: 1.5398 - categorical_accuracy: 0.4208 - val_loss: 4.3053 - val_categorical_accuracy: 0.1600 - lr: 0.0010\n",
            "Epoch 2/20\n",
            "34/34 [==============================] - ETA: 0s - loss: 0.9423 - categorical_accuracy: 0.6244\n",
            "Epoch 2: saving model to model_init_2022-05-1519_52_59.500549/model-00002-0.94234-0.62443-5.90765-0.25000.h5\n",
            "34/34 [==============================] - 46s 1s/step - loss: 0.9423 - categorical_accuracy: 0.6244 - val_loss: 5.9076 - val_categorical_accuracy: 0.2500 - lr: 0.0010\n",
            "Epoch 3/20\n",
            "34/34 [==============================] - ETA: 0s - loss: 0.7731 - categorical_accuracy: 0.7044\n",
            "Epoch 3: saving model to model_init_2022-05-1519_52_59.500549/model-00003-0.77306-0.70437-6.89375-0.28000.h5\n",
            "34/34 [==============================] - 47s 1s/step - loss: 0.7731 - categorical_accuracy: 0.7044 - val_loss: 6.8938 - val_categorical_accuracy: 0.2800 - lr: 0.0010\n",
            "Epoch 4/20\n",
            "34/34 [==============================] - ETA: 0s - loss: 0.6860 - categorical_accuracy: 0.7315\n",
            "Epoch 4: saving model to model_init_2022-05-1519_52_59.500549/model-00004-0.68604-0.73152-7.63181-0.23000.h5\n",
            "34/34 [==============================] - 46s 1s/step - loss: 0.6860 - categorical_accuracy: 0.7315 - val_loss: 7.6318 - val_categorical_accuracy: 0.2300 - lr: 0.0010\n",
            "Epoch 5/20\n",
            "34/34 [==============================] - ETA: 0s - loss: 0.6083 - categorical_accuracy: 0.7677\n",
            "Epoch 5: saving model to model_init_2022-05-1519_52_59.500549/model-00005-0.60834-0.76772-7.16660-0.23000.h5\n",
            "\n",
            "Epoch 5: ReduceLROnPlateau reducing learning rate to 0.00020000000949949026.\n",
            "34/34 [==============================] - 46s 1s/step - loss: 0.6083 - categorical_accuracy: 0.7677 - val_loss: 7.1666 - val_categorical_accuracy: 0.2300 - lr: 0.0010\n",
            "Epoch 6/20\n",
            "34/34 [==============================] - ETA: 0s - loss: 0.4838 - categorical_accuracy: 0.8311\n",
            "Epoch 6: saving model to model_init_2022-05-1519_52_59.500549/model-00006-0.48378-0.83107-6.86388-0.22000.h5\n",
            "34/34 [==============================] - 47s 1s/step - loss: 0.4838 - categorical_accuracy: 0.8311 - val_loss: 6.8639 - val_categorical_accuracy: 0.2200 - lr: 2.0000e-04\n",
            "Epoch 7/20\n",
            "34/34 [==============================] - ETA: 0s - loss: 0.4624 - categorical_accuracy: 0.8341\n",
            "Epoch 7: saving model to model_init_2022-05-1519_52_59.500549/model-00007-0.46239-0.83409-5.76484-0.30000.h5\n",
            "34/34 [==============================] - 46s 1s/step - loss: 0.4624 - categorical_accuracy: 0.8341 - val_loss: 5.7648 - val_categorical_accuracy: 0.3000 - lr: 2.0000e-04\n",
            "Epoch 8/20\n",
            "34/34 [==============================] - ETA: 0s - loss: 0.3502 - categorical_accuracy: 0.8763\n",
            "Epoch 8: saving model to model_init_2022-05-1519_52_59.500549/model-00008-0.35019-0.87632-5.83278-0.19000.h5\n",
            "34/34 [==============================] - 47s 1s/step - loss: 0.3502 - categorical_accuracy: 0.8763 - val_loss: 5.8328 - val_categorical_accuracy: 0.1900 - lr: 2.0000e-04\n",
            "Epoch 9/20\n",
            "34/34 [==============================] - ETA: 0s - loss: 0.3603 - categorical_accuracy: 0.8808\n",
            "Epoch 9: saving model to model_init_2022-05-1519_52_59.500549/model-00009-0.36031-0.88084-4.78551-0.28000.h5\n",
            "\n",
            "Epoch 9: ReduceLROnPlateau reducing learning rate to 4.0000001899898055e-05.\n",
            "34/34 [==============================] - 47s 1s/step - loss: 0.3603 - categorical_accuracy: 0.8808 - val_loss: 4.7855 - val_categorical_accuracy: 0.2800 - lr: 2.0000e-04\n",
            "Epoch 10/20\n",
            "34/34 [==============================] - ETA: 0s - loss: 0.3191 - categorical_accuracy: 0.9065\n",
            "Epoch 10: saving model to model_init_2022-05-1519_52_59.500549/model-00010-0.31909-0.90649-4.55826-0.24000.h5\n",
            "34/34 [==============================] - 46s 1s/step - loss: 0.3191 - categorical_accuracy: 0.9065 - val_loss: 4.5583 - val_categorical_accuracy: 0.2400 - lr: 4.0000e-05\n",
            "Epoch 11/20\n",
            "34/34 [==============================] - ETA: 0s - loss: 0.3106 - categorical_accuracy: 0.8989\n",
            "Epoch 11: saving model to model_init_2022-05-1519_52_59.500549/model-00011-0.31063-0.89894-3.80487-0.29000.h5\n",
            "34/34 [==============================] - 46s 1s/step - loss: 0.3106 - categorical_accuracy: 0.8989 - val_loss: 3.8049 - val_categorical_accuracy: 0.2900 - lr: 4.0000e-05\n",
            "Epoch 12/20\n",
            "34/34 [==============================] - ETA: 0s - loss: 0.3040 - categorical_accuracy: 0.8974\n",
            "Epoch 12: saving model to model_init_2022-05-1519_52_59.500549/model-00012-0.30401-0.89744-3.31248-0.30000.h5\n",
            "34/34 [==============================] - 47s 1s/step - loss: 0.3040 - categorical_accuracy: 0.8974 - val_loss: 3.3125 - val_categorical_accuracy: 0.3000 - lr: 4.0000e-05\n",
            "Epoch 13/20\n",
            "34/34 [==============================] - ETA: 0s - loss: 0.3294 - categorical_accuracy: 0.8929\n",
            "Epoch 13: saving model to model_init_2022-05-1519_52_59.500549/model-00013-0.32944-0.89291-2.71554-0.35000.h5\n",
            "34/34 [==============================] - 46s 1s/step - loss: 0.3294 - categorical_accuracy: 0.8929 - val_loss: 2.7155 - val_categorical_accuracy: 0.3500 - lr: 4.0000e-05\n",
            "Epoch 14/20\n",
            "34/34 [==============================] - ETA: 0s - loss: 0.3047 - categorical_accuracy: 0.9110\n",
            "Epoch 14: saving model to model_init_2022-05-1519_52_59.500549/model-00014-0.30475-0.91101-2.32859-0.36000.h5\n",
            "34/34 [==============================] - 46s 1s/step - loss: 0.3047 - categorical_accuracy: 0.9110 - val_loss: 2.3286 - val_categorical_accuracy: 0.3600 - lr: 4.0000e-05\n",
            "Epoch 15/20\n",
            "33/34 [============================>.] - ETA: 1s - loss: 0.3014 - categorical_accuracy: 0.8939\n",
            "Epoch 15: saving model to model_init_2022-05-1519_52_59.500549/model-00015-0.30556-0.89291-1.59180-0.47000.h5\n",
            "34/34 [==============================] - 46s 1s/step - loss: 0.3056 - categorical_accuracy: 0.8929 - val_loss: 1.5918 - val_categorical_accuracy: 0.4700 - lr: 4.0000e-05\n",
            "Epoch 16/20\n",
            "34/34 [==============================] - ETA: 0s - loss: 0.3326 - categorical_accuracy: 0.8929\n",
            "Epoch 16: saving model to model_init_2022-05-1519_52_59.500549/model-00016-0.33262-0.89291-1.38397-0.50000.h5\n",
            "34/34 [==============================] - 47s 1s/step - loss: 0.3326 - categorical_accuracy: 0.8929 - val_loss: 1.3840 - val_categorical_accuracy: 0.5000 - lr: 4.0000e-05\n",
            "Epoch 17/20\n",
            "34/34 [==============================] - ETA: 0s - loss: 0.3021 - categorical_accuracy: 0.8974\n",
            "Epoch 17: saving model to model_init_2022-05-1519_52_59.500549/model-00017-0.30213-0.89744-0.99103-0.64000.h5\n",
            "34/34 [==============================] - 46s 1s/step - loss: 0.3021 - categorical_accuracy: 0.8974 - val_loss: 0.9910 - val_categorical_accuracy: 0.6400 - lr: 4.0000e-05\n",
            "Epoch 18/20\n",
            "34/34 [==============================] - ETA: 0s - loss: 0.2993 - categorical_accuracy: 0.8929\n",
            "Epoch 18: saving model to model_init_2022-05-1519_52_59.500549/model-00018-0.29934-0.89291-0.76522-0.69000.h5\n",
            "34/34 [==============================] - 46s 1s/step - loss: 0.2993 - categorical_accuracy: 0.8929 - val_loss: 0.7652 - val_categorical_accuracy: 0.6900 - lr: 4.0000e-05\n",
            "Epoch 19/20\n",
            "34/34 [==============================] - ETA: 0s - loss: 0.2486 - categorical_accuracy: 0.9125\n",
            "Epoch 19: saving model to model_init_2022-05-1519_52_59.500549/model-00019-0.24859-0.91252-0.58818-0.78000.h5\n",
            "34/34 [==============================] - 46s 1s/step - loss: 0.2486 - categorical_accuracy: 0.9125 - val_loss: 0.5882 - val_categorical_accuracy: 0.7800 - lr: 4.0000e-05\n",
            "Epoch 20/20\n",
            "33/34 [============================>.] - ETA: 1s - loss: 0.2532 - categorical_accuracy: 0.9091\n",
            "Epoch 20: saving model to model_init_2022-05-1519_52_59.500549/model-00020-0.25795-0.90799-0.58296-0.79000.h5\n",
            "34/34 [==============================] - 46s 1s/step - loss: 0.2579 - categorical_accuracy: 0.9080 - val_loss: 0.5830 - val_categorical_accuracy: 0.7900 - lr: 4.0000e-05\n"
          ]
        }
      ],
      "source": [
        "history_model1 = model.fit_generator(train_generator, steps_per_epoch=steps_per_epoch, epochs=num_epochs, verbose=1, \n",
        "                    callbacks=callbacks_list, validation_data=val_generator, \n",
        "                    validation_steps=validation_steps, class_weight=None, workers=1, initial_epoch=0)"
      ]
    },
    {
      "cell_type": "code",
      "execution_count": 37,
      "metadata": {
        "id": "_J5i8ziq2dCn"
      },
      "outputs": [],
      "source": [
        "# function to plot the training/validation accuracies/losses.\n",
        "\n",
        "def plot(history):\n",
        "    fig, axes = plt.subplots(nrows=1, ncols=2, figsize=(15,4))\n",
        "    axes[0].plot(history.history['loss'])   \n",
        "    axes[0].plot(history.history['val_loss'])\n",
        "    axes[0].legend(['loss','val_loss'])\n",
        "\n",
        "    axes[1].plot(history.history['categorical_accuracy'])   \n",
        "    axes[1].plot(history.history['val_categorical_accuracy'])\n",
        "    axes[1].legend(['categorical_accuracy','val_categorical_accuracy'])"
      ]
    },
    {
      "cell_type": "code",
      "source": [
        "plot(history_model1)"
      ],
      "metadata": {
        "id": "Rl_AACyQPlYt",
        "colab": {
          "base_uri": "https://localhost:8080/",
          "height": 269
        },
        "outputId": "90faa188-ec59-40cf-bca3-67aa3a322eed"
      },
      "execution_count": 53,
      "outputs": [
        {
          "output_type": "display_data",
          "data": {
            "text/plain": [
              "<Figure size 1080x288 with 2 Axes>"
            ],
            "image/png": "[encoded data removed]"
          },
          "metadata": {
            "needs_background": "light"
          }
        }
      ]
    },
    {
      "cell_type": "code",
      "source": [
        ""
      ],
      "metadata": {
        "id": "9-r2gINtPyEN"
      },
      "execution_count": null,
      "outputs": []
    },
    {
      "cell_type": "markdown",
      "source": [
        "### Model2"
      ],
      "metadata": {
        "id": "C0QFGJr6RRm9"
      }
    },
    {
      "cell_type": "code",
      "source": [
        "#image properties \n",
        "image_height=120\n",
        "image_width=120\n",
        "channels=3\n",
        "num_classes=5\n",
        "total_frames=30\n",
        "frames_to_sample=16\n",
        "batch_size=30\n",
        "num_epochs=25\n",
        "dense_neurons=256\n",
        "dropout=0.5\n",
        "filtersize=(2,2,2)\n",
        "print ('# epochs =', num_epochs)"
      ],
      "metadata": {
        "id": "MNQYlE5YRU4X",
        "colab": {
          "base_uri": "https://localhost:8080/"
        },
        "outputId": "711bd19c-8a31-4cdd-f41f-294136ce5e1b"
      },
      "execution_count": null,
      "outputs": [
        {
          "output_type": "stream",
          "name": "stdout",
          "text": [
            "# epochs = 25\n"
          ]
        }
      ]
    },
    {
      "cell_type": "code",
      "source": [
        "model2 = Sequential()\n",
        "model2.add(Conv3D(16, filtersize, padding='same',\n",
        "input_shape=(frames_to_sample,image_height,image_width,channels)))\n",
        "model2.add(Activation('relu'))\n",
        "model2.add(BatchNormalization())\n",
        "model2.add(MaxPooling3D(pool_size=(2, 2, 2)))\n",
        "\n",
        "model2.add(Conv3D(32, filtersize, padding='same'))\n",
        "model2.add(Activation('relu'))\n",
        "model2.add(BatchNormalization())\n",
        "model2.add(MaxPooling3D(pool_size=(2, 2, 2)))\n",
        "\n",
        "model2.add(Conv3D(64, filtersize, padding='same'))\n",
        "model2.add(Activation('relu'))\n",
        "model2.add(BatchNormalization())\n",
        "model2.add(MaxPooling3D(pool_size=(2, 2, 2)))\n",
        "model2.add(Conv3D(128, filtersize, padding='same'))\n",
        "model2.add(Activation('relu'))\n",
        "model2.add(BatchNormalization())\n",
        "model2.add(MaxPooling3D(pool_size=(2, 2, 2)))\n",
        "\n",
        "model2.add(Flatten())\n",
        "model2.add(Dense(dense_neurons,activation='relu'))\n",
        "model2.add(BatchNormalization())\n",
        "model2.add(Dropout(dropout))\n",
        "\n",
        "model2.add(Dense(dense_neurons,activation='relu'))\n",
        "model2.add(BatchNormalization())\n",
        "model2.add(Dropout(dropout))\n",
        "\n",
        "\n",
        "model2.add(Dense(num_classes,activation='softmax'))\n",
        "        \n",
        "optimiser = tf.optimizers.Adam(lr=0.0002)\n",
        "model2.compile(optimizer=optimiser, loss='categorical_crossentropy', metrics=['categorical_accuracy'])"
      ],
      "metadata": {
        "id": "n2VBUegcR_-Q"
      },
      "execution_count": null,
      "outputs": []
    },
    {
      "cell_type": "code",
      "source": [
        "model2.summary()"
      ],
      "metadata": {
        "id": "ZZmM7RU3VlQj",
        "colab": {
          "base_uri": "https://localhost:8080/"
        },
        "outputId": "cee0bd0e-4ca8-4980-8d02-a60ccde5bee2"
      },
      "execution_count": null,
      "outputs": [
        {
          "output_type": "stream",
          "name": "stdout",
          "text": [
            "Model: \"sequential_1\"\n",
            "_________________________________________________________________\n",
            " Layer (type)                Output Shape              Param #   \n",
            "=================================================================\n",
            " conv3d_4 (Conv3D)           (None, 16, 120, 120, 16)  400       \n",
            "                                                                 \n",
            " activation_4 (Activation)   (None, 16, 120, 120, 16)  0         \n",
            "                                                                 \n",
            " batch_normalization_6 (Batc  (None, 16, 120, 120, 16)  64       \n",
            " hNormalization)                                                 \n",
            "                                                                 \n",
            " max_pooling3d_4 (MaxPooling  (None, 8, 60, 60, 16)    0         \n",
            " 3D)                                                             \n",
            "                                                                 \n",
            " conv3d_5 (Conv3D)           (None, 8, 60, 60, 32)     4128      \n",
            "                                                                 \n",
            " activation_5 (Activation)   (None, 8, 60, 60, 32)     0         \n",
            "                                                                 \n",
            " batch_normalization_7 (Batc  (None, 8, 60, 60, 32)    128       \n",
            " hNormalization)                                                 \n",
            "                                                                 \n",
            " max_pooling3d_5 (MaxPooling  (None, 4, 30, 30, 32)    0         \n",
            " 3D)                                                             \n",
            "                                                                 \n",
            " conv3d_6 (Conv3D)           (None, 4, 30, 30, 64)     16448     \n",
            "                                                                 \n",
            " activation_6 (Activation)   (None, 4, 30, 30, 64)     0         \n",
            "                                                                 \n",
            " batch_normalization_8 (Batc  (None, 4, 30, 30, 64)    256       \n",
            " hNormalization)                                                 \n",
            "                                                                 \n",
            " max_pooling3d_6 (MaxPooling  (None, 2, 15, 15, 64)    0         \n",
            " 3D)                                                             \n",
            "                                                                 \n",
            " conv3d_7 (Conv3D)           (None, 2, 15, 15, 128)    65664     \n",
            "                                                                 \n",
            " activation_7 (Activation)   (None, 2, 15, 15, 128)    0         \n",
            "                                                                 \n",
            " batch_normalization_9 (Batc  (None, 2, 15, 15, 128)   512       \n",
            " hNormalization)                                                 \n",
            "                                                                 \n",
            " max_pooling3d_7 (MaxPooling  (None, 1, 7, 7, 128)     0         \n",
            " 3D)                                                             \n",
            "                                                                 \n",
            " flatten_1 (Flatten)         (None, 6272)              0         \n",
            "                                                                 \n",
            " dense_3 (Dense)             (None, 256)               1605888   \n",
            "                                                                 \n",
            " batch_normalization_10 (Bat  (None, 256)              1024      \n",
            " chNormalization)                                                \n",
            "                                                                 \n",
            " dropout_2 (Dropout)         (None, 256)               0         \n",
            "                                                                 \n",
            " dense_4 (Dense)             (None, 256)               65792     \n",
            "                                                                 \n",
            " batch_normalization_11 (Bat  (None, 256)              1024      \n",
            " chNormalization)                                                \n",
            "                                                                 \n",
            " dropout_3 (Dropout)         (None, 256)               0         \n",
            "                                                                 \n",
            " dense_5 (Dense)             (None, 5)                 1285      \n",
            "                                                                 \n",
            "=================================================================\n",
            "Total params: 1,762,613\n",
            "Trainable params: 1,761,109\n",
            "Non-trainable params: 1,504\n",
            "_________________________________________________________________\n"
          ]
        }
      ]
    },
    {
      "cell_type": "code",
      "source": [
        "print(\"Total Params:\", model2.count_params())\n"
      ],
      "metadata": {
        "id": "d1JQyQoaVoNo",
        "colab": {
          "base_uri": "https://localhost:8080/"
        },
        "outputId": "648af0cb-927e-43de-ff51-5b5f45ae6fef"
      },
      "execution_count": null,
      "outputs": [
        {
          "output_type": "stream",
          "name": "stdout",
          "text": [
            "Total Params: 1762613\n"
          ]
        }
      ]
    },
    {
      "cell_type": "code",
      "source": [
        "train_generator = generator(train_path, train_doc, batch_size)\n",
        "val_generator = generator(val_path, val_doc, batch_size)"
      ],
      "metadata": {
        "id": "dwPgyqYzWt8j"
      },
      "execution_count": null,
      "outputs": []
    },
    {
      "cell_type": "code",
      "source": [
        "model_name = 'model_init' + '_' + str(curr_dt_time).replace(' ','').replace(':','_') + '/'\n",
        "    \n",
        "if not os.path.exists(model_name):\n",
        "    os.mkdir(model_name)\n",
        "        \n",
        "filepath = model_name + 'model-{epoch:05d}-{loss:.5f}-{categorical_accuracy:.5f}-{val_loss:.5f}-{val_categorical_accuracy:.5f}.h5'\n",
        "\n",
        "checkpoint = ModelCheckpoint(filepath, monitor='val_loss', verbose=1, save_best_only=False, save_weights_only=False, mode='auto', period=1)\n",
        "\n",
        "LR = ReduceLROnPlateau(monitor='val_loss', factor=0.2, verbose=1, patience=4)\n",
        "callbacks_list = [checkpoint, LR]"
      ],
      "metadata": {
        "id": "x-YfutrRXKZL",
        "colab": {
          "base_uri": "https://localhost:8080/"
        },
        "outputId": "67781945-c50b-44ac-914a-d026d99d253a"
      },
      "execution_count": null,
      "outputs": [
        {
          "output_type": "stream",
          "name": "stdout",
          "text": [
            "WARNING:tensorflow:`period` argument is deprecated. Please use `save_freq` to specify the frequency in number of batches seen.\n"
          ]
        }
      ]
    },
    {
      "cell_type": "code",
      "source": [
        "if (num_train_sequences%batch_size) == 0:\n",
        "    steps_per_epoch = int(num_train_sequences/batch_size)\n",
        "else:\n",
        "    steps_per_epoch = (num_train_sequences//batch_size) + 1\n",
        "\n",
        "if (num_val_sequences%batch_size) == 0:\n",
        "    validation_steps = int(num_val_sequences/batch_size)\n",
        "else:\n",
        "    validation_steps = (num_val_sequences//batch_size) + 1"
      ],
      "metadata": {
        "id": "Nn-2mgO4XUjb"
      },
      "execution_count": null,
      "outputs": []
    },
    {
      "cell_type": "code",
      "source": [
        "history_model2 = model2.fit_generator(train_generator, steps_per_epoch=steps_per_epoch, epochs=num_epochs, verbose=1, \n",
        "                    callbacks=callbacks_list, validation_data=val_generator, \n",
        "                    validation_steps=validation_steps, class_weight=None, workers=1, initial_epoch=0)"
      ],
      "metadata": {
        "id": "M_CyD2FeXiBx",
        "colab": {
          "base_uri": "https://localhost:8080/"
        },
        "outputId": "3028ceb6-0f8c-44ce-fd2a-bddda8b0a019"
      },
      "execution_count": null,
      "outputs": [
        {
          "output_type": "stream",
          "name": "stdout",
          "text": [
            "Source path =  /content/gdrive/My Drive/Colab Notebooks/GestureRecognition/Project/Project_data/train ; batch size = 30\n",
            "Epoch 1/25\n",
            "23/23 [==============================] - ETA: 0s - loss: 2.0867 - categorical_accuracy: 0.3424 Source path =  /content/gdrive/My Drive/Colab Notebooks/GestureRecognition/Project/Project_data/val ; batch size = 30\n",
            "\n",
            "Epoch 1: saving model to model_init_2022-05-1422_19_53.823618/model-00001-2.08672-0.34238-1.77903-0.16000.h5\n",
            "23/23 [==============================] - 1010s 46s/step - loss: 2.0867 - categorical_accuracy: 0.3424 - val_loss: 1.7790 - val_categorical_accuracy: 0.1600 - lr: 2.0000e-04\n",
            "Epoch 2/25\n",
            "23/23 [==============================] - ETA: 0s - loss: 1.3285 - categorical_accuracy: 0.5490\n",
            "Epoch 2: saving model to model_init_2022-05-1422_19_53.823618/model-00002-1.32853-0.54902-2.89311-0.15000.h5\n",
            "23/23 [==============================] - 44s 2s/step - loss: 1.3285 - categorical_accuracy: 0.5490 - val_loss: 2.8931 - val_categorical_accuracy: 0.1500 - lr: 2.0000e-04\n",
            "Epoch 3/25\n",
            "23/23 [==============================] - ETA: 0s - loss: 1.0813 - categorical_accuracy: 0.6320\n",
            "Epoch 3: saving model to model_init_2022-05-1422_19_53.823618/model-00003-1.08134-0.63198-3.83579-0.18000.h5\n",
            "23/23 [==============================] - 47s 2s/step - loss: 1.0813 - categorical_accuracy: 0.6320 - val_loss: 3.8358 - val_categorical_accuracy: 0.1800 - lr: 2.0000e-04\n",
            "Epoch 4/25\n",
            "23/23 [==============================] - ETA: 0s - loss: 1.0679 - categorical_accuracy: 0.6350\n",
            "Epoch 4: saving model to model_init_2022-05-1422_19_53.823618/model-00004-1.06789-0.63499-5.23951-0.12000.h5\n",
            "23/23 [==============================] - 45s 2s/step - loss: 1.0679 - categorical_accuracy: 0.6350 - val_loss: 5.2395 - val_categorical_accuracy: 0.1200 - lr: 2.0000e-04\n",
            "Epoch 5/25\n",
            "23/23 [==============================] - ETA: 0s - loss: 0.7698 - categorical_accuracy: 0.7179\n",
            "Epoch 5: saving model to model_init_2022-05-1422_19_53.823618/model-00005-0.76984-0.71795-5.96038-0.16000.h5\n",
            "\n",
            "Epoch 5: ReduceLROnPlateau reducing learning rate to 3.9999998989515007e-05.\n",
            "23/23 [==============================] - 46s 2s/step - loss: 0.7698 - categorical_accuracy: 0.7179 - val_loss: 5.9604 - val_categorical_accuracy: 0.1600 - lr: 2.0000e-04\n",
            "Epoch 6/25\n",
            "23/23 [==============================] - ETA: 0s - loss: 0.6323 - categorical_accuracy: 0.7602\n",
            "Epoch 6: saving model to model_init_2022-05-1422_19_53.823618/model-00006-0.63227-0.76018-6.72176-0.17000.h5\n",
            "23/23 [==============================] - 47s 2s/step - loss: 0.6323 - categorical_accuracy: 0.7602 - val_loss: 6.7218 - val_categorical_accuracy: 0.1700 - lr: 4.0000e-05\n",
            "Epoch 7/25\n",
            "23/23 [==============================] - ETA: 0s - loss: 0.7699 - categorical_accuracy: 0.7300\n",
            "Epoch 7: saving model to model_init_2022-05-1422_19_53.823618/model-00007-0.76990-0.73002-8.01447-0.11000.h5\n",
            "23/23 [==============================] - 46s 2s/step - loss: 0.7699 - categorical_accuracy: 0.7300 - val_loss: 8.0145 - val_categorical_accuracy: 0.1100 - lr: 4.0000e-05\n",
            "Epoch 8/25\n",
            "23/23 [==============================] - ETA: 0s - loss: 0.6451 - categorical_accuracy: 0.7587\n",
            "Epoch 8: saving model to model_init_2022-05-1422_19_53.823618/model-00008-0.64514-0.75867-7.49953-0.19000.h5\n",
            "23/23 [==============================] - 45s 2s/step - loss: 0.6451 - categorical_accuracy: 0.7587 - val_loss: 7.4995 - val_categorical_accuracy: 0.1900 - lr: 4.0000e-05\n",
            "Epoch 9/25\n",
            "23/23 [==============================] - ETA: 0s - loss: 0.5983 - categorical_accuracy: 0.7753\n",
            "Epoch 9: saving model to model_init_2022-05-1422_19_53.823618/model-00009-0.59835-0.77526-7.85353-0.17000.h5\n",
            "\n",
            "Epoch 9: ReduceLROnPlateau reducing learning rate to 7.999999797903002e-06.\n",
            "23/23 [==============================] - 46s 2s/step - loss: 0.5983 - categorical_accuracy: 0.7753 - val_loss: 7.8535 - val_categorical_accuracy: 0.1700 - lr: 4.0000e-05\n",
            "Epoch 10/25\n",
            "23/23 [==============================] - ETA: 0s - loss: 0.5756 - categorical_accuracy: 0.7873\n",
            "Epoch 10: saving model to model_init_2022-05-1422_19_53.823618/model-00010-0.57560-0.78733-8.01877-0.19000.h5\n",
            "23/23 [==============================] - 46s 2s/step - loss: 0.5756 - categorical_accuracy: 0.7873 - val_loss: 8.0188 - val_categorical_accuracy: 0.1900 - lr: 8.0000e-06\n",
            "Epoch 11/25\n",
            "23/23 [==============================] - ETA: 0s - loss: 0.5934 - categorical_accuracy: 0.7858\n",
            "Epoch 11: saving model to model_init_2022-05-1422_19_53.823618/model-00011-0.59344-0.78582-7.54383-0.28000.h5\n",
            "23/23 [==============================] - 46s 2s/step - loss: 0.5934 - categorical_accuracy: 0.7858 - val_loss: 7.5438 - val_categorical_accuracy: 0.2800 - lr: 8.0000e-06\n",
            "Epoch 12/25\n",
            "23/23 [==============================] - ETA: 0s - loss: 0.5560 - categorical_accuracy: 0.7934\n",
            "Epoch 12: saving model to model_init_2022-05-1422_19_53.823618/model-00012-0.55602-0.79336-7.86229-0.23000.h5\n",
            "23/23 [==============================] - 45s 2s/step - loss: 0.5560 - categorical_accuracy: 0.7934 - val_loss: 7.8623 - val_categorical_accuracy: 0.2300 - lr: 8.0000e-06\n",
            "Epoch 13/25\n",
            "23/23 [==============================] - ETA: 0s - loss: 0.5677 - categorical_accuracy: 0.7919\n",
            "Epoch 13: saving model to model_init_2022-05-1422_19_53.823618/model-00013-0.56771-0.79186-7.43105-0.26000.h5\n",
            "\n",
            "Epoch 13: ReduceLROnPlateau reducing learning rate to 1.5999999959603884e-06.\n",
            "23/23 [==============================] - 46s 2s/step - loss: 0.5677 - categorical_accuracy: 0.7919 - val_loss: 7.4310 - val_categorical_accuracy: 0.2600 - lr: 8.0000e-06\n",
            "Epoch 14/25\n",
            "23/23 [==============================] - ETA: 0s - loss: 0.5576 - categorical_accuracy: 0.7979\n",
            "Epoch 14: saving model to model_init_2022-05-1422_19_53.823618/model-00014-0.55760-0.79789-7.03619-0.25000.h5\n",
            "23/23 [==============================] - 46s 2s/step - loss: 0.5576 - categorical_accuracy: 0.7979 - val_loss: 7.0362 - val_categorical_accuracy: 0.2500 - lr: 1.6000e-06\n",
            "Epoch 15/25\n",
            "23/23 [==============================] - ETA: 0s - loss: 0.5926 - categorical_accuracy: 0.7843\n",
            "Epoch 15: saving model to model_init_2022-05-1422_19_53.823618/model-00015-0.59255-0.78431-6.20202-0.28000.h5\n",
            "23/23 [==============================] - 46s 2s/step - loss: 0.5926 - categorical_accuracy: 0.7843 - val_loss: 6.2020 - val_categorical_accuracy: 0.2800 - lr: 1.6000e-06\n",
            "Epoch 16/25\n",
            "23/23 [==============================] - ETA: 0s - loss: 0.6436 - categorical_accuracy: 0.7707\n",
            "Epoch 16: saving model to model_init_2022-05-1422_19_53.823618/model-00016-0.64357-0.77074-5.78490-0.26000.h5\n",
            "23/23 [==============================] - 45s 2s/step - loss: 0.6436 - categorical_accuracy: 0.7707 - val_loss: 5.7849 - val_categorical_accuracy: 0.2600 - lr: 1.6000e-06\n",
            "Epoch 17/25\n",
            "23/23 [==============================] - ETA: 0s - loss: 0.5790 - categorical_accuracy: 0.7873\n",
            "Epoch 17: saving model to model_init_2022-05-1422_19_53.823618/model-00017-0.57897-0.78733-5.20700-0.25000.h5\n",
            "\n",
            "Epoch 17: ReduceLROnPlateau reducing learning rate to 3.200000037395512e-07.\n",
            "23/23 [==============================] - 46s 2s/step - loss: 0.5790 - categorical_accuracy: 0.7873 - val_loss: 5.2070 - val_categorical_accuracy: 0.2500 - lr: 1.6000e-06\n",
            "Epoch 18/25\n",
            "22/23 [===========================>..] - ETA: 1s - loss: 0.6017 - categorical_accuracy: 0.8045\n",
            "Epoch 18: saving model to model_init_2022-05-1422_19_53.823618/model-00018-0.60074-0.80392-4.79915-0.25000.h5\n",
            "23/23 [==============================] - 46s 2s/step - loss: 0.6007 - categorical_accuracy: 0.8039 - val_loss: 4.7991 - val_categorical_accuracy: 0.2500 - lr: 3.2000e-07\n",
            "Epoch 19/25\n",
            "23/23 [==============================] - ETA: 0s - loss: 0.5857 - categorical_accuracy: 0.8054\n",
            "Epoch 19: saving model to model_init_2022-05-1422_19_53.823618/model-00019-0.58567-0.80543-4.16719-0.27000.h5\n",
            "23/23 [==============================] - 47s 2s/step - loss: 0.5857 - categorical_accuracy: 0.8054 - val_loss: 4.1672 - val_categorical_accuracy: 0.2700 - lr: 3.2000e-07\n",
            "Epoch 20/25\n",
            "22/23 [===========================>..] - ETA: 1s - loss: 0.5575 - categorical_accuracy: 0.7970\n",
            "Epoch 20: saving model to model_init_2022-05-1422_19_53.823618/model-00020-0.55558-0.79789-3.36966-0.29000.h5\n",
            "23/23 [==============================] - 45s 2s/step - loss: 0.5556 - categorical_accuracy: 0.7979 - val_loss: 3.3697 - val_categorical_accuracy: 0.2900 - lr: 3.2000e-07\n",
            "Epoch 21/25\n",
            "22/23 [===========================>..] - ETA: 1s - loss: 0.6250 - categorical_accuracy: 0.7818\n",
            "Epoch 21: saving model to model_init_2022-05-1422_19_53.823618/model-00021-0.64019-0.77979-2.93545-0.31000.h5\n",
            "\n",
            "Epoch 21: ReduceLROnPlateau reducing learning rate to 6.399999961104187e-08.\n",
            "23/23 [==============================] - 46s 2s/step - loss: 0.6402 - categorical_accuracy: 0.7798 - val_loss: 2.9354 - val_categorical_accuracy: 0.3100 - lr: 3.2000e-07\n",
            "Epoch 22/25\n",
            "23/23 [==============================] - ETA: 0s - loss: 0.5817 - categorical_accuracy: 0.7949\n",
            "Epoch 22: saving model to model_init_2022-05-1422_19_53.823618/model-00022-0.58174-0.79487-2.05304-0.43000.h5\n",
            "23/23 [==============================] - 46s 2s/step - loss: 0.5817 - categorical_accuracy: 0.7949 - val_loss: 2.0530 - val_categorical_accuracy: 0.4300 - lr: 6.4000e-08\n",
            "Epoch 23/25\n",
            "23/23 [==============================] - ETA: 0s - loss: 0.6239 - categorical_accuracy: 0.7964\n",
            "Epoch 23: saving model to model_init_2022-05-1422_19_53.823618/model-00023-0.62391-0.79638-2.24757-0.32000.h5\n",
            "23/23 [==============================] - 46s 2s/step - loss: 0.6239 - categorical_accuracy: 0.7964 - val_loss: 2.2476 - val_categorical_accuracy: 0.3200 - lr: 6.4000e-08\n",
            "Epoch 24/25\n",
            "22/23 [===========================>..] - ETA: 1s - loss: 0.6067 - categorical_accuracy: 0.7879\n",
            "Epoch 24: saving model to model_init_2022-05-1422_19_53.823618/model-00024-0.61016-0.78733-1.55780-0.52000.h5\n",
            "23/23 [==============================] - 45s 2s/step - loss: 0.6102 - categorical_accuracy: 0.7873 - val_loss: 1.5578 - val_categorical_accuracy: 0.5200 - lr: 6.4000e-08\n",
            "Epoch 25/25\n",
            "23/23 [==============================] - ETA: 0s - loss: 0.6163 - categorical_accuracy: 0.7828\n",
            "Epoch 25: saving model to model_init_2022-05-1422_19_53.823618/model-00025-0.61627-0.78281-1.44485-0.51000.h5\n",
            "23/23 [==============================] - 46s 2s/step - loss: 0.6163 - categorical_accuracy: 0.7828 - val_loss: 1.4448 - val_categorical_accuracy: 0.5100 - lr: 6.4000e-08\n"
          ]
        }
      ]
    },
    {
      "cell_type": "code",
      "source": [
        "plot(history_model2)"
      ],
      "metadata": {
        "id": "Q9NWRSgt2IOn",
        "colab": {
          "base_uri": "https://localhost:8080/",
          "height": 265
        },
        "outputId": "c6967d48-4db7-4ede-c82c-aff95e595f5d"
      },
      "execution_count": null,
      "outputs": [
        {
          "output_type": "display_data",
          "data": {
            "text/plain": [
              "<Figure size 1080x288 with 2 Axes>"
            ],
            "image/png": "[encoded data removed]"
          },
          "metadata": {
            "needs_background": "light"
          }
        }
      ]
    },
    {
      "cell_type": "markdown",
      "source": [
        "Model3"
      ],
      "metadata": {
        "id": "OpG7d38N2cIW"
      }
    },
    {
      "cell_type": "markdown",
      "source": [
        "#### Reducing the number of parameters"
      ],
      "metadata": {
        "id": "d0sev6a34LkQ"
      }
    },
    {
      "cell_type": "code",
      "source": [
        "#image properties \n",
        "image_height=120\n",
        "image_width=120\n",
        "channels=3\n",
        "num_classes=5\n",
        "total_frames=30\n",
        "frames_to_sample=16\n",
        "batch_size=20\n",
        "num_epochs=25\n",
        "dense_neurons=64\n",
        "dropout=0.25\n",
        "filtersize=(3,3,3)\n",
        "print ('# epochs =', num_epochs)"
      ],
      "metadata": {
        "id": "qp7gP_d-2dqo",
        "colab": {
          "base_uri": "https://localhost:8080/"
        },
        "outputId": "25752bff-b935-41f5-f1ea-2f271ede7b7c"
      },
      "execution_count": null,
      "outputs": [
        {
          "output_type": "stream",
          "name": "stdout",
          "text": [
            "# epochs = 25\n"
          ]
        }
      ]
    },
    {
      "cell_type": "code",
      "source": [
        "model3 = Sequential()\n",
        "model3.add(Conv3D(16, filtersize, padding='same',\n",
        "                 input_shape=(frames_to_sample,image_height,image_width,channels)))\n",
        "model3.add(Activation('relu'))\n",
        "model3.add(BatchNormalization())\n",
        "model3.add(MaxPooling3D(pool_size=(2, 2, 2)))\n",
        "\n",
        "model3.add(Conv3D(32, filtersize, padding='same'))\n",
        "model3.add(Activation('relu'))\n",
        "model3.add(BatchNormalization())\n",
        "model3.add(MaxPooling3D(pool_size=(2, 2, 2)))\n",
        "\n",
        "model3.add(Conv3D(64, filtersize, padding='same'))\n",
        "model3.add(Activation('relu'))\n",
        "model3.add(BatchNormalization())\n",
        "model3.add(MaxPooling3D(pool_size=(2, 2, 2)))\n",
        "\n",
        "model3.add(Conv3D(128, filtersize, padding='same'))\n",
        "model3.add(Activation('relu'))\n",
        "model3.add(BatchNormalization())\n",
        "model3.add(MaxPooling3D(pool_size=(2, 2, 2)))\n",
        "     \n",
        "model3.add(Flatten())\n",
        "model3.add(Dense(dense_neurons,activation='relu'))\n",
        "model3.add(BatchNormalization())\n",
        "model3.add(Dropout(dropout))\n",
        "\n",
        "model3.add(Dense(dense_neurons,activation='relu'))\n",
        "model3.add(BatchNormalization())\n",
        "model3.add(Dropout(dropout))\n",
        "\n",
        "model3.add(Dense(num_classes,activation='softmax'))\n",
        "\n",
        "optimiser = tf.optimizers.Adam(lr=0.0002)\n",
        "model3.compile(optimizer=optimiser, loss='categorical_crossentropy', metrics=['categorical_accuracy'])"
      ],
      "metadata": {
        "id": "gz62Dlx92tnn"
      },
      "execution_count": null,
      "outputs": []
    },
    {
      "cell_type": "code",
      "source": [
        "model3.summary()"
      ],
      "metadata": {
        "id": "A2NYtSHM4bFr",
        "colab": {
          "base_uri": "https://localhost:8080/"
        },
        "outputId": "8ed7e486-c4b4-4fc1-aa70-4d72fa755e05"
      },
      "execution_count": null,
      "outputs": [
        {
          "output_type": "stream",
          "name": "stdout",
          "text": [
            "Model: \"sequential_2\"\n",
            "_________________________________________________________________\n",
            " Layer (type)                Output Shape              Param #   \n",
            "=================================================================\n",
            " conv3d_8 (Conv3D)           (None, 16, 120, 120, 16)  1312      \n",
            "                                                                 \n",
            " activation_8 (Activation)   (None, 16, 120, 120, 16)  0         \n",
            "                                                                 \n",
            " batch_normalization_12 (Bat  (None, 16, 120, 120, 16)  64       \n",
            " chNormalization)                                                \n",
            "                                                                 \n",
            " max_pooling3d_8 (MaxPooling  (None, 8, 60, 60, 16)    0         \n",
            " 3D)                                                             \n",
            "                                                                 \n",
            " conv3d_9 (Conv3D)           (None, 8, 60, 60, 32)     13856     \n",
            "                                                                 \n",
            " activation_9 (Activation)   (None, 8, 60, 60, 32)     0         \n",
            "                                                                 \n",
            " batch_normalization_13 (Bat  (None, 8, 60, 60, 32)    128       \n",
            " chNormalization)                                                \n",
            "                                                                 \n",
            " max_pooling3d_9 (MaxPooling  (None, 4, 30, 30, 32)    0         \n",
            " 3D)                                                             \n",
            "                                                                 \n",
            " conv3d_10 (Conv3D)          (None, 4, 30, 30, 64)     55360     \n",
            "                                                                 \n",
            " activation_10 (Activation)  (None, 4, 30, 30, 64)     0         \n",
            "                                                                 \n",
            " batch_normalization_14 (Bat  (None, 4, 30, 30, 64)    256       \n",
            " chNormalization)                                                \n",
            "                                                                 \n",
            " max_pooling3d_10 (MaxPoolin  (None, 2, 15, 15, 64)    0         \n",
            " g3D)                                                            \n",
            "                                                                 \n",
            " conv3d_11 (Conv3D)          (None, 2, 15, 15, 128)    221312    \n",
            "                                                                 \n",
            " activation_11 (Activation)  (None, 2, 15, 15, 128)    0         \n",
            "                                                                 \n",
            " batch_normalization_15 (Bat  (None, 2, 15, 15, 128)   512       \n",
            " chNormalization)                                                \n",
            "                                                                 \n",
            " max_pooling3d_11 (MaxPoolin  (None, 1, 7, 7, 128)     0         \n",
            " g3D)                                                            \n",
            "                                                                 \n",
            " flatten_2 (Flatten)         (None, 6272)              0         \n",
            "                                                                 \n",
            " dense_6 (Dense)             (None, 64)                401472    \n",
            "                                                                 \n",
            " batch_normalization_16 (Bat  (None, 64)               256       \n",
            " chNormalization)                                                \n",
            "                                                                 \n",
            " dropout_4 (Dropout)         (None, 64)                0         \n",
            "                                                                 \n",
            " dense_7 (Dense)             (None, 64)                4160      \n",
            "                                                                 \n",
            " batch_normalization_17 (Bat  (None, 64)               256       \n",
            " chNormalization)                                                \n",
            "                                                                 \n",
            " dropout_5 (Dropout)         (None, 64)                0         \n",
            "                                                                 \n",
            " dense_8 (Dense)             (None, 5)                 325       \n",
            "                                                                 \n",
            "=================================================================\n",
            "Total params: 699,269\n",
            "Trainable params: 698,533\n",
            "Non-trainable params: 736\n",
            "_________________________________________________________________\n"
          ]
        }
      ]
    },
    {
      "cell_type": "code",
      "source": [
        "print(\"Total Params:\", model3.count_params())"
      ],
      "metadata": {
        "id": "A2YK2VtQ8B_d",
        "colab": {
          "base_uri": "https://localhost:8080/"
        },
        "outputId": "1b6128b4-4971-4ea8-ceca-383323013c3b"
      },
      "execution_count": null,
      "outputs": [
        {
          "output_type": "stream",
          "name": "stdout",
          "text": [
            "Total Params: 699269\n"
          ]
        }
      ]
    },
    {
      "cell_type": "code",
      "source": [
        "train_generator = generator(train_path, train_doc, batch_size)\n",
        "val_generator = generator(val_path, val_doc, batch_size)"
      ],
      "metadata": {
        "id": "ELTvGqJc_igz"
      },
      "execution_count": null,
      "outputs": []
    },
    {
      "cell_type": "code",
      "source": [
        "model_name = 'model_init' + '_' + str(curr_dt_time).replace(' ','').replace(':','_') + '/'\n",
        "    \n",
        "if not os.path.exists(model_name):\n",
        "    os.mkdir(model_name)\n",
        "        \n",
        "filepath = model_name + 'model-{epoch:05d}-{loss:.5f}-{categorical_accuracy:.5f}-{val_loss:.5f}-{val_categorical_accuracy:.5f}.h5'\n",
        "\n",
        "checkpoint = ModelCheckpoint(filepath, monitor='val_loss', verbose=1, save_best_only=False, save_weights_only=False, mode='auto', period=1)\n",
        "\n",
        "LR = ReduceLROnPlateau(monitor='val_loss', factor=0.2, verbose=1, patience=4)\n",
        "callbacks_list = [checkpoint, LR]"
      ],
      "metadata": {
        "id": "xvY4T3k-_s7B",
        "colab": {
          "base_uri": "https://localhost:8080/"
        },
        "outputId": "4ea42ae0-7de1-4039-a4c5-fe853411a5c3"
      },
      "execution_count": null,
      "outputs": [
        {
          "output_type": "stream",
          "name": "stdout",
          "text": [
            "WARNING:tensorflow:`period` argument is deprecated. Please use `save_freq` to specify the frequency in number of batches seen.\n"
          ]
        }
      ]
    },
    {
      "cell_type": "code",
      "source": [
        "if (num_train_sequences%batch_size) == 0:\n",
        "    steps_per_epoch = int(num_train_sequences/batch_size)\n",
        "else:\n",
        "    steps_per_epoch = (num_train_sequences//batch_size) + 1\n",
        "\n",
        "if (num_val_sequences%batch_size) == 0:\n",
        "    validation_steps = int(num_val_sequences/batch_size)\n",
        "else:\n",
        "    validation_steps = (num_val_sequences//batch_size) + 1"
      ],
      "metadata": {
        "id": "DwqWakqh_0Ze"
      },
      "execution_count": null,
      "outputs": []
    },
    {
      "cell_type": "code",
      "source": [
        "history_model3 = model3.fit_generator(train_generator, steps_per_epoch=steps_per_epoch, epochs=num_epochs, verbose=1, \n",
        "                    callbacks=callbacks_list, validation_data=val_generator, \n",
        "                    validation_steps=validation_steps, class_weight=None, workers=1, initial_epoch=0)"
      ],
      "metadata": {
        "id": "tMR1rxTw_-_j",
        "colab": {
          "base_uri": "https://localhost:8080/"
        },
        "outputId": "be41b5b6-ec96-4b35-d44b-e5cecd2f2ae4"
      },
      "execution_count": null,
      "outputs": [
        {
          "output_type": "stream",
          "name": "stdout",
          "text": [
            "Source path =  /content/gdrive/My Drive/Colab Notebooks/GestureRecognition/Project/Project_data/train ; batch size = 20\n",
            "Epoch 1/25\n",
            "34/34 [==============================] - ETA: 0s - loss: 1.6466 - categorical_accuracy: 0.3846Source path =  /content/gdrive/My Drive/Colab Notebooks/GestureRecognition/Project/Project_data/val ; batch size = 20\n",
            "\n",
            "Epoch 1: saving model to model_init_2022-05-1422_19_53.823618/model-00001-1.64662-0.38462-1.86199-0.21000.h5\n",
            "34/34 [==============================] - 48s 1s/step - loss: 1.6466 - categorical_accuracy: 0.3846 - val_loss: 1.8620 - val_categorical_accuracy: 0.2100 - lr: 2.0000e-04\n",
            "Epoch 2/25\n",
            "34/34 [==============================] - ETA: 0s - loss: 1.1527 - categorical_accuracy: 0.5551\n",
            "Epoch 2: saving model to model_init_2022-05-1422_19_53.823618/model-00002-1.15269-0.55505-2.29719-0.23000.h5\n",
            "34/34 [==============================] - 45s 1s/step - loss: 1.1527 - categorical_accuracy: 0.5551 - val_loss: 2.2972 - val_categorical_accuracy: 0.2300 - lr: 2.0000e-04\n",
            "Epoch 3/25\n",
            "34/34 [==============================] - ETA: 0s - loss: 0.9814 - categorical_accuracy: 0.6275\n",
            "Epoch 3: saving model to model_init_2022-05-1422_19_53.823618/model-00003-0.98142-0.62745-3.72216-0.19000.h5\n",
            "34/34 [==============================] - 47s 1s/step - loss: 0.9814 - categorical_accuracy: 0.6275 - val_loss: 3.7222 - val_categorical_accuracy: 0.1900 - lr: 2.0000e-04\n",
            "Epoch 4/25\n",
            "34/34 [==============================] - ETA: 0s - loss: 0.8766 - categorical_accuracy: 0.6561\n",
            "Epoch 4: saving model to model_init_2022-05-1422_19_53.823618/model-00004-0.87664-0.65611-4.84485-0.22000.h5\n",
            "34/34 [==============================] - 46s 1s/step - loss: 0.8766 - categorical_accuracy: 0.6561 - val_loss: 4.8448 - val_categorical_accuracy: 0.2200 - lr: 2.0000e-04\n",
            "Epoch 5/25\n",
            "34/34 [==============================] - ETA: 0s - loss: 0.7827 - categorical_accuracy: 0.7225\n",
            "Epoch 5: saving model to model_init_2022-05-1422_19_53.823618/model-00005-0.78273-0.72247-4.81787-0.22000.h5\n",
            "\n",
            "Epoch 5: ReduceLROnPlateau reducing learning rate to 3.9999998989515007e-05.\n",
            "34/34 [==============================] - 46s 1s/step - loss: 0.7827 - categorical_accuracy: 0.7225 - val_loss: 4.8179 - val_categorical_accuracy: 0.2200 - lr: 2.0000e-04\n",
            "Epoch 6/25\n",
            "34/34 [==============================] - ETA: 0s - loss: 0.6607 - categorical_accuracy: 0.7526\n",
            "Epoch 6: saving model to model_init_2022-05-1422_19_53.823618/model-00006-0.66068-0.75264-4.47991-0.22000.h5\n",
            "34/34 [==============================] - 47s 1s/step - loss: 0.6607 - categorical_accuracy: 0.7526 - val_loss: 4.4799 - val_categorical_accuracy: 0.2200 - lr: 4.0000e-05\n",
            "Epoch 7/25\n",
            "34/34 [==============================] - ETA: 0s - loss: 0.6356 - categorical_accuracy: 0.7798\n",
            "Epoch 7: saving model to model_init_2022-05-1422_19_53.823618/model-00007-0.63562-0.77979-4.03168-0.28000.h5\n",
            "34/34 [==============================] - 46s 1s/step - loss: 0.6356 - categorical_accuracy: 0.7798 - val_loss: 4.0317 - val_categorical_accuracy: 0.2800 - lr: 4.0000e-05\n",
            "Epoch 8/25\n",
            "34/34 [==============================] - ETA: 0s - loss: 0.5390 - categorical_accuracy: 0.8100\n",
            "Epoch 8: saving model to model_init_2022-05-1422_19_53.823618/model-00008-0.53900-0.80995-4.31317-0.22000.h5\n",
            "34/34 [==============================] - 47s 1s/step - loss: 0.5390 - categorical_accuracy: 0.8100 - val_loss: 4.3132 - val_categorical_accuracy: 0.2200 - lr: 4.0000e-05\n",
            "Epoch 9/25\n",
            "34/34 [==============================] - ETA: 0s - loss: 0.5559 - categorical_accuracy: 0.8024\n",
            "Epoch 9: saving model to model_init_2022-05-1422_19_53.823618/model-00009-0.55585-0.80241-4.06376-0.25000.h5\n",
            "\n",
            "Epoch 9: ReduceLROnPlateau reducing learning rate to 7.999999797903002e-06.\n",
            "34/34 [==============================] - 46s 1s/step - loss: 0.5559 - categorical_accuracy: 0.8024 - val_loss: 4.0638 - val_categorical_accuracy: 0.2500 - lr: 4.0000e-05\n",
            "Epoch 10/25\n",
            "34/34 [==============================] - ETA: 0s - loss: 0.5217 - categorical_accuracy: 0.8069\n",
            "Epoch 10: saving model to model_init_2022-05-1422_19_53.823618/model-00010-0.52172-0.80694-3.74558-0.26000.h5\n",
            "34/34 [==============================] - 46s 1s/step - loss: 0.5217 - categorical_accuracy: 0.8069 - val_loss: 3.7456 - val_categorical_accuracy: 0.2600 - lr: 8.0000e-06\n",
            "Epoch 11/25\n",
            "34/34 [==============================] - ETA: 0s - loss: 0.5168 - categorical_accuracy: 0.8190\n",
            "Epoch 11: saving model to model_init_2022-05-1422_19_53.823618/model-00011-0.51678-0.81900-3.20248-0.29000.h5\n",
            "34/34 [==============================] - 46s 1s/step - loss: 0.5168 - categorical_accuracy: 0.8190 - val_loss: 3.2025 - val_categorical_accuracy: 0.2900 - lr: 8.0000e-06\n",
            "Epoch 12/25\n",
            "34/34 [==============================] - ETA: 0s - loss: 0.5302 - categorical_accuracy: 0.7994\n",
            "Epoch 12: saving model to model_init_2022-05-1422_19_53.823618/model-00012-0.53021-0.79940-2.92575-0.31000.h5\n",
            "34/34 [==============================] - 46s 1s/step - loss: 0.5302 - categorical_accuracy: 0.7994 - val_loss: 2.9257 - val_categorical_accuracy: 0.3100 - lr: 8.0000e-06\n",
            "Epoch 13/25\n",
            "34/34 [==============================] - ETA: 0s - loss: 0.5214 - categorical_accuracy: 0.8100\n",
            "Epoch 13: saving model to model_init_2022-05-1422_19_53.823618/model-00013-0.52144-0.80995-2.33946-0.37000.h5\n",
            "\n",
            "Epoch 13: ReduceLROnPlateau reducing learning rate to 1.5999999959603884e-06.\n",
            "34/34 [==============================] - 47s 1s/step - loss: 0.5214 - categorical_accuracy: 0.8100 - val_loss: 2.3395 - val_categorical_accuracy: 0.3700 - lr: 8.0000e-06\n",
            "Epoch 14/25\n",
            "34/34 [==============================] - ETA: 0s - loss: 0.4614 - categorical_accuracy: 0.8582\n",
            "Epoch 14: saving model to model_init_2022-05-1422_19_53.823618/model-00014-0.46140-0.85822-2.10731-0.32000.h5\n",
            "34/34 [==============================] - 47s 1s/step - loss: 0.4614 - categorical_accuracy: 0.8582 - val_loss: 2.1073 - val_categorical_accuracy: 0.3200 - lr: 1.6000e-06\n",
            "Epoch 15/25\n",
            "34/34 [==============================] - ETA: 0s - loss: 0.5038 - categorical_accuracy: 0.8205\n",
            "Epoch 15: saving model to model_init_2022-05-1422_19_53.823618/model-00015-0.50377-0.82051-1.63353-0.45000.h5\n",
            "34/34 [==============================] - 46s 1s/step - loss: 0.5038 - categorical_accuracy: 0.8205 - val_loss: 1.6335 - val_categorical_accuracy: 0.4500 - lr: 1.6000e-06\n",
            "Epoch 16/25\n",
            "34/34 [==============================] - ETA: 0s - loss: 0.4930 - categorical_accuracy: 0.8371\n",
            "Epoch 16: saving model to model_init_2022-05-1422_19_53.823618/model-00016-0.49299-0.83710-1.37201-0.54000.h5\n",
            "34/34 [==============================] - 46s 1s/step - loss: 0.4930 - categorical_accuracy: 0.8371 - val_loss: 1.3720 - val_categorical_accuracy: 0.5400 - lr: 1.6000e-06\n",
            "Epoch 17/25\n",
            "34/34 [==============================] - ETA: 0s - loss: 0.4667 - categorical_accuracy: 0.8401\n",
            "Epoch 17: saving model to model_init_2022-05-1422_19_53.823618/model-00017-0.46666-0.84012-1.18631-0.60000.h5\n",
            "34/34 [==============================] - 46s 1s/step - loss: 0.4667 - categorical_accuracy: 0.8401 - val_loss: 1.1863 - val_categorical_accuracy: 0.6000 - lr: 1.6000e-06\n",
            "Epoch 18/25\n",
            "34/34 [==============================] - ETA: 0s - loss: 0.4467 - categorical_accuracy: 0.8462\n",
            "Epoch 18: saving model to model_init_2022-05-1422_19_53.823618/model-00018-0.44669-0.84615-0.97875-0.67000.h5\n",
            "34/34 [==============================] - 46s 1s/step - loss: 0.4467 - categorical_accuracy: 0.8462 - val_loss: 0.9787 - val_categorical_accuracy: 0.6700 - lr: 1.6000e-06\n",
            "Epoch 19/25\n",
            "34/34 [==============================] - ETA: 0s - loss: 0.4768 - categorical_accuracy: 0.8326\n",
            "Epoch 19: saving model to model_init_2022-05-1422_19_53.823618/model-00019-0.47676-0.83258-0.96299-0.74000.h5\n",
            "34/34 [==============================] - 46s 1s/step - loss: 0.4768 - categorical_accuracy: 0.8326 - val_loss: 0.9630 - val_categorical_accuracy: 0.7400 - lr: 1.6000e-06\n",
            "Epoch 20/25\n",
            "34/34 [==============================] - ETA: 0s - loss: 0.5086 - categorical_accuracy: 0.8160\n",
            "Epoch 20: saving model to model_init_2022-05-1422_19_53.823618/model-00020-0.50863-0.81599-0.89563-0.68000.h5\n",
            "34/34 [==============================] - 46s 1s/step - loss: 0.5086 - categorical_accuracy: 0.8160 - val_loss: 0.8956 - val_categorical_accuracy: 0.6800 - lr: 1.6000e-06\n",
            "Epoch 21/25\n",
            "34/34 [==============================] - ETA: 0s - loss: 0.4733 - categorical_accuracy: 0.8386\n",
            "Epoch 21: saving model to model_init_2022-05-1422_19_53.823618/model-00021-0.47331-0.83861-0.80034-0.77000.h5\n",
            "34/34 [==============================] - 47s 1s/step - loss: 0.4733 - categorical_accuracy: 0.8386 - val_loss: 0.8003 - val_categorical_accuracy: 0.7700 - lr: 1.6000e-06\n",
            "Epoch 22/25\n",
            "34/34 [==============================] - ETA: 0s - loss: 0.5118 - categorical_accuracy: 0.8235\n",
            "Epoch 22: saving model to model_init_2022-05-1422_19_53.823618/model-00022-0.51179-0.82353-0.74904-0.79000.h5\n",
            "34/34 [==============================] - 46s 1s/step - loss: 0.5118 - categorical_accuracy: 0.8235 - val_loss: 0.7490 - val_categorical_accuracy: 0.7900 - lr: 1.6000e-06\n",
            "Epoch 23/25\n",
            "34/34 [==============================] - ETA: 0s - loss: 0.4839 - categorical_accuracy: 0.8416\n",
            "Epoch 23: saving model to model_init_2022-05-1422_19_53.823618/model-00023-0.48385-0.84163-0.81942-0.81000.h5\n",
            "34/34 [==============================] - 46s 1s/step - loss: 0.4839 - categorical_accuracy: 0.8416 - val_loss: 0.8194 - val_categorical_accuracy: 0.8100 - lr: 1.6000e-06\n",
            "Epoch 24/25\n",
            "34/34 [==============================] - ETA: 0s - loss: 0.4589 - categorical_accuracy: 0.8401\n",
            "Epoch 24: saving model to model_init_2022-05-1422_19_53.823618/model-00024-0.45888-0.84012-0.70218-0.80000.h5\n",
            "34/34 [==============================] - 46s 1s/step - loss: 0.4589 - categorical_accuracy: 0.8401 - val_loss: 0.7022 - val_categorical_accuracy: 0.8000 - lr: 1.6000e-06\n",
            "Epoch 25/25\n",
            "34/34 [==============================] - ETA: 0s - loss: 0.4770 - categorical_accuracy: 0.8462\n",
            "Epoch 25: saving model to model_init_2022-05-1422_19_53.823618/model-00025-0.47697-0.84615-0.75320-0.79000.h5\n",
            "34/34 [==============================] - 46s 1s/step - loss: 0.4770 - categorical_accuracy: 0.8462 - val_loss: 0.7532 - val_categorical_accuracy: 0.7900 - lr: 1.6000e-06\n"
          ]
        }
      ]
    },
    {
      "cell_type": "code",
      "source": [
        "plot(history_model3)"
      ],
      "metadata": {
        "id": "l5e0N0mZGc4F",
        "colab": {
          "base_uri": "https://localhost:8080/",
          "height": 266
        },
        "outputId": "4d9f59c1-1355-472e-a19d-a59886a14a37"
      },
      "execution_count": null,
      "outputs": [
        {
          "output_type": "display_data",
          "data": {
            "text/plain": [
              "<Figure size 1080x288 with 2 Axes>"
            ],
            "image/png": "[encoded data removed]"
          },
          "metadata": {
            "needs_background": "light"
          }
        }
      ]
    },
    {
      "cell_type": "markdown",
      "source": [
        "### Model 4"
      ],
      "metadata": {
        "id": "UQi0w_J8L2y3"
      }
    },
    {
      "cell_type": "markdown",
      "source": [
        "LSTM"
      ],
      "metadata": {
        "id": "fXZxr210LoPe"
      }
    },
    {
      "cell_type": "code",
      "source": [
        "#image properties \n",
        "image_height=120\n",
        "image_width=120\n",
        "channels=3\n",
        "num_classes=5\n",
        "total_frames=30\n",
        "frames_to_sample=18\n",
        "batch_size=20\n",
        "num_epochs=20\n",
        "dense_neurons=128\n",
        "lstm_cells=128\n",
        "dropout=0.25\n",
        "filtersize=(3,3,3)\n",
        "print ('# epochs =', num_epochs)"
      ],
      "metadata": {
        "id": "6kOwR1XLbtpS",
        "colab": {
          "base_uri": "https://localhost:8080/"
        },
        "outputId": "dbe016d7-74e0-4d61-9126-265efe83e650"
      },
      "execution_count": null,
      "outputs": [
        {
          "output_type": "stream",
          "name": "stdout",
          "text": [
            "# epochs = 20\n"
          ]
        }
      ]
    },
    {
      "cell_type": "code",
      "source": [
        "model4 = Sequential()\n",
        "\n",
        "model4.add(TimeDistributed(Conv2D(16, (3, 3) , padding='same', activation='relu'),\n",
        "                                  input_shape=(frames_to_sample,image_height,image_width,channels)))\n",
        "model4.add(TimeDistributed(BatchNormalization()))\n",
        "model4.add(TimeDistributed(MaxPooling2D((2, 2))))\n",
        "        \n",
        "model4.add(TimeDistributed(Conv2D(32, (3, 3) , padding='same', activation='relu')))\n",
        "model4.add(TimeDistributed(BatchNormalization()))\n",
        "model4.add(TimeDistributed(MaxPooling2D((2, 2))))\n",
        "        \n",
        "model4.add(TimeDistributed(Conv2D(64, (3, 3) , padding='same', activation='relu')))\n",
        "model4.add(TimeDistributed(BatchNormalization()))\n",
        "model4.add(TimeDistributed(MaxPooling2D((2, 2))))\n",
        "        \n",
        "model4.add(TimeDistributed(Conv2D(128, (3, 3) , padding='same', activation='relu')))\n",
        "model4.add(TimeDistributed(BatchNormalization()))\n",
        "model4.add(TimeDistributed(MaxPooling2D((2, 2))))\n",
        "        \n",
        "model4.add(TimeDistributed(Conv2D(256, (3, 3) , padding='same', activation='relu')))\n",
        "model4.add(TimeDistributed(BatchNormalization()))\n",
        "model4.add(TimeDistributed(MaxPooling2D((2, 2))))\n",
        "        \n",
        "        #model.add(TimeDistributed(Conv2D(512, (2, 2) , padding='valid', activation='relu')))\n",
        "       # model.add(TimeDistributed(BatchNormalization()))\n",
        "       # model.add(TimeDistributed(MaxPooling2D((2, 2))))\n",
        "\n",
        "model4.add(TimeDistributed(Flatten()))\n",
        "\n",
        "\n",
        "model4.add(LSTM(lstm_cells))\n",
        "model4.add(Dropout(dropout))\n",
        "        \n",
        "model4.add(Dense(dense_neurons,activation='relu'))\n",
        "model4.add(Dropout(dropout))\n",
        "        \n",
        "model4.add(Dense(num_classes, activation='softmax'))\n",
        "optimiser = tf.optimizers.Adam()\n",
        "model4.compile(optimizer=optimiser, loss='categorical_crossentropy', metrics=['categorical_accuracy'])"
      ],
      "metadata": {
        "id": "JUd_O29jbuqa"
      },
      "execution_count": null,
      "outputs": []
    },
    {
      "cell_type": "code",
      "source": [
        "model4.summary()"
      ],
      "metadata": {
        "id": "_OOrO26id2BZ",
        "colab": {
          "base_uri": "https://localhost:8080/"
        },
        "outputId": "fcb9e231-e6df-497d-d972-5c3880a4da37"
      },
      "execution_count": null,
      "outputs": [
        {
          "output_type": "stream",
          "name": "stdout",
          "text": [
            "Model: \"sequential_3\"\n",
            "_________________________________________________________________\n",
            " Layer (type)                Output Shape              Param #   \n",
            "=================================================================\n",
            " time_distributed (TimeDistr  (None, 18, 120, 120, 16)  448      \n",
            " ibuted)                                                         \n",
            "                                                                 \n",
            " time_distributed_1 (TimeDis  (None, 18, 120, 120, 16)  64       \n",
            " tributed)                                                       \n",
            "                                                                 \n",
            " time_distributed_2 (TimeDis  (None, 18, 60, 60, 16)   0         \n",
            " tributed)                                                       \n",
            "                                                                 \n",
            " time_distributed_3 (TimeDis  (None, 18, 60, 60, 32)   4640      \n",
            " tributed)                                                       \n",
            "                                                                 \n",
            " time_distributed_4 (TimeDis  (None, 18, 60, 60, 32)   128       \n",
            " tributed)                                                       \n",
            "                                                                 \n",
            " time_distributed_5 (TimeDis  (None, 18, 30, 30, 32)   0         \n",
            " tributed)                                                       \n",
            "                                                                 \n",
            " time_distributed_6 (TimeDis  (None, 18, 30, 30, 64)   18496     \n",
            " tributed)                                                       \n",
            "                                                                 \n",
            " time_distributed_7 (TimeDis  (None, 18, 30, 30, 64)   256       \n",
            " tributed)                                                       \n",
            "                                                                 \n",
            " time_distributed_8 (TimeDis  (None, 18, 15, 15, 64)   0         \n",
            " tributed)                                                       \n",
            "                                                                 \n",
            " time_distributed_9 (TimeDis  (None, 18, 15, 15, 128)  73856     \n",
            " tributed)                                                       \n",
            "                                                                 \n",
            " time_distributed_10 (TimeDi  (None, 18, 15, 15, 128)  512       \n",
            " stributed)                                                      \n",
            "                                                                 \n",
            " time_distributed_11 (TimeDi  (None, 18, 7, 7, 128)    0         \n",
            " stributed)                                                      \n",
            "                                                                 \n",
            " time_distributed_12 (TimeDi  (None, 18, 7, 7, 256)    295168    \n",
            " stributed)                                                      \n",
            "                                                                 \n",
            " time_distributed_13 (TimeDi  (None, 18, 7, 7, 256)    1024      \n",
            " stributed)                                                      \n",
            "                                                                 \n",
            " time_distributed_14 (TimeDi  (None, 18, 3, 3, 256)    0         \n",
            " stributed)                                                      \n",
            "                                                                 \n",
            " time_distributed_15 (TimeDi  (None, 18, 2304)         0         \n",
            " stributed)                                                      \n",
            "                                                                 \n",
            " lstm (LSTM)                 (None, 128)               1245696   \n",
            "                                                                 \n",
            " dropout_6 (Dropout)         (None, 128)               0         \n",
            "                                                                 \n",
            " dense_9 (Dense)             (None, 128)               16512     \n",
            "                                                                 \n",
            " dropout_7 (Dropout)         (None, 128)               0         \n",
            "                                                                 \n",
            " dense_10 (Dense)            (None, 5)                 645       \n",
            "                                                                 \n",
            "=================================================================\n",
            "Total params: 1,657,445\n",
            "Trainable params: 1,656,453\n",
            "Non-trainable params: 992\n",
            "_________________________________________________________________\n"
          ]
        }
      ]
    },
    {
      "cell_type": "code",
      "source": [
        "print(\"Total Params:\", model4.count_params())"
      ],
      "metadata": {
        "id": "evPDpjgTd5Fd",
        "colab": {
          "base_uri": "https://localhost:8080/"
        },
        "outputId": "78e02b44-4d62-444b-9ebe-3a2316a1f8b9"
      },
      "execution_count": null,
      "outputs": [
        {
          "output_type": "stream",
          "name": "stdout",
          "text": [
            "Total Params: 1657445\n"
          ]
        }
      ]
    },
    {
      "cell_type": "code",
      "source": [
        "train_generator = generator(train_path, train_doc, batch_size)\n",
        "val_generator = generator(val_path, val_doc, batch_size)"
      ],
      "metadata": {
        "id": "EiNPIQ7Lepsj"
      },
      "execution_count": 26,
      "outputs": []
    },
    {
      "cell_type": "code",
      "source": [
        "model_name = 'model_init' + '_' + str(curr_dt_time).replace(' ','').replace(':','_') + '/'\n",
        "    \n",
        "if not os.path.exists(model_name):\n",
        "    os.mkdir(model_name)\n",
        "        \n",
        "filepath = model_name + 'model-{epoch:05d}-{loss:.5f}-{categorical_accuracy:.5f}-{val_loss:.5f}-{val_categorical_accuracy:.5f}.h5'\n",
        "\n",
        "checkpoint = ModelCheckpoint(filepath, monitor='val_loss', verbose=1, save_best_only=False, save_weights_only=False, mode='auto', period=1)\n",
        "\n",
        "LR = ReduceLROnPlateau(monitor='val_loss', factor=0.2, verbose=1, patience=4)\n",
        "callbacks_list = [checkpoint, LR]"
      ],
      "metadata": {
        "id": "RjnZNcr5exd_",
        "colab": {
          "base_uri": "https://localhost:8080/"
        },
        "outputId": "96ecbe7e-dae8-4ecf-cd1f-285c73ab75c7"
      },
      "execution_count": null,
      "outputs": [
        {
          "output_type": "stream",
          "name": "stdout",
          "text": [
            "WARNING:tensorflow:`period` argument is deprecated. Please use `save_freq` to specify the frequency in number of batches seen.\n"
          ]
        }
      ]
    },
    {
      "cell_type": "code",
      "source": [
        "if (num_train_sequences%batch_size) == 0:\n",
        "    steps_per_epoch = int(num_train_sequences/batch_size)\n",
        "else:\n",
        "    steps_per_epoch = (num_train_sequences//batch_size) + 1\n",
        "\n",
        "if (num_val_sequences%batch_size) == 0:\n",
        "    validation_steps = int(num_val_sequences/batch_size)\n",
        "else:\n",
        "    validation_steps = (num_val_sequences//batch_size) + 1"
      ],
      "metadata": {
        "id": "LNpd3C7re--7"
      },
      "execution_count": null,
      "outputs": []
    },
    {
      "cell_type": "code",
      "source": [
        "history_model4 = model4.fit_generator(train_generator, steps_per_epoch=steps_per_epoch, epochs=num_epochs, verbose=1, \n",
        "                    callbacks=callbacks_list, validation_data=val_generator, \n",
        "                    validation_steps=validation_steps, class_weight=None, workers=1, initial_epoch=0)"
      ],
      "metadata": {
        "id": "XAQqRYvwfIZ4",
        "colab": {
          "base_uri": "https://localhost:8080/"
        },
        "outputId": "e85058a5-4158-4daf-c67c-02fc09e9dcb5"
      },
      "execution_count": null,
      "outputs": [
        {
          "output_type": "stream",
          "name": "stdout",
          "text": [
            "Source path =  /content/gdrive/My Drive/Colab Notebooks/GestureRecognition/Project/Project_data/train ; batch size = 20\n",
            "Epoch 1/20\n",
            "34/34 [==============================] - ETA: 0s - loss: 1.4137 - categorical_accuracy: 0.3952 Source path =  /content/gdrive/My Drive/Colab Notebooks/GestureRecognition/Project/Project_data/val ; batch size = 20\n",
            "\n",
            "Epoch 1: saving model to model_init_2022-05-1422_19_53.823618/model-00001-1.41366-0.39517-1.76341-0.18000.h5\n",
            "34/34 [==============================] - 544s 16s/step - loss: 1.4137 - categorical_accuracy: 0.3952 - val_loss: 1.7634 - val_categorical_accuracy: 0.1800 - lr: 0.0010\n",
            "Epoch 2/20\n",
            "34/34 [==============================] - ETA: 0s - loss: 1.0770 - categorical_accuracy: 0.5762\n",
            "Epoch 2: saving model to model_init_2022-05-1422_19_53.823618/model-00002-1.07697-0.57617-1.71093-0.26000.h5\n",
            "34/34 [==============================] - 53s 2s/step - loss: 1.0770 - categorical_accuracy: 0.5762 - val_loss: 1.7109 - val_categorical_accuracy: 0.2600 - lr: 0.0010\n",
            "Epoch 3/20\n",
            "34/34 [==============================] - ETA: 0s - loss: 0.9428 - categorical_accuracy: 0.6410\n",
            "Epoch 3: saving model to model_init_2022-05-1422_19_53.823618/model-00003-0.94278-0.64103-2.38518-0.24000.h5\n",
            "34/34 [==============================] - 52s 2s/step - loss: 0.9428 - categorical_accuracy: 0.6410 - val_loss: 2.3852 - val_categorical_accuracy: 0.2400 - lr: 0.0010\n",
            "Epoch 4/20\n",
            "34/34 [==============================] - ETA: 0s - loss: 0.7560 - categorical_accuracy: 0.7044\n",
            "Epoch 4: saving model to model_init_2022-05-1422_19_53.823618/model-00004-0.75604-0.70437-2.47244-0.17000.h5\n",
            "34/34 [==============================] - 53s 2s/step - loss: 0.7560 - categorical_accuracy: 0.7044 - val_loss: 2.4724 - val_categorical_accuracy: 0.1700 - lr: 0.0010\n",
            "Epoch 5/20\n",
            "34/34 [==============================] - ETA: 0s - loss: 0.6433 - categorical_accuracy: 0.7677\n",
            "Epoch 5: saving model to model_init_2022-05-1422_19_53.823618/model-00005-0.64332-0.76772-2.79638-0.23000.h5\n",
            "34/34 [==============================] - 53s 2s/step - loss: 0.6433 - categorical_accuracy: 0.7677 - val_loss: 2.7964 - val_categorical_accuracy: 0.2300 - lr: 0.0010\n",
            "Epoch 6/20\n",
            "34/34 [==============================] - ETA: 0s - loss: 0.5915 - categorical_accuracy: 0.7813\n",
            "Epoch 6: saving model to model_init_2022-05-1422_19_53.823618/model-00006-0.59148-0.78130-2.20512-0.26000.h5\n",
            "\n",
            "Epoch 6: ReduceLROnPlateau reducing learning rate to 0.00020000000949949026.\n",
            "34/34 [==============================] - 53s 2s/step - loss: 0.5915 - categorical_accuracy: 0.7813 - val_loss: 2.2051 - val_categorical_accuracy: 0.2600 - lr: 0.0010\n",
            "Epoch 7/20\n",
            "34/34 [==============================] - ETA: 0s - loss: 0.4530 - categorical_accuracy: 0.8371\n",
            "Epoch 7: saving model to model_init_2022-05-1422_19_53.823618/model-00007-0.45303-0.83710-2.46342-0.17000.h5\n",
            "34/34 [==============================] - 53s 2s/step - loss: 0.4530 - categorical_accuracy: 0.8371 - val_loss: 2.4634 - val_categorical_accuracy: 0.1700 - lr: 2.0000e-04\n",
            "Epoch 8/20\n",
            "34/34 [==============================] - ETA: 0s - loss: 0.3321 - categorical_accuracy: 0.8974\n",
            "Epoch 8: saving model to model_init_2022-05-1422_19_53.823618/model-00008-0.33210-0.89744-2.12190-0.33000.h5\n",
            "34/34 [==============================] - 53s 2s/step - loss: 0.3321 - categorical_accuracy: 0.8974 - val_loss: 2.1219 - val_categorical_accuracy: 0.3300 - lr: 2.0000e-04\n",
            "Epoch 9/20\n",
            "34/34 [==============================] - ETA: 0s - loss: 0.2760 - categorical_accuracy: 0.9170\n",
            "Epoch 9: saving model to model_init_2022-05-1422_19_53.823618/model-00009-0.27598-0.91704-2.59739-0.26000.h5\n",
            "34/34 [==============================] - 53s 2s/step - loss: 0.2760 - categorical_accuracy: 0.9170 - val_loss: 2.5974 - val_categorical_accuracy: 0.2600 - lr: 2.0000e-04\n",
            "Epoch 10/20\n",
            "34/34 [==============================] - ETA: 0s - loss: 0.2203 - categorical_accuracy: 0.9336\n",
            "Epoch 10: saving model to model_init_2022-05-1422_19_53.823618/model-00010-0.22034-0.93363-2.72220-0.29000.h5\n",
            "\n",
            "Epoch 10: ReduceLROnPlateau reducing learning rate to 4.0000001899898055e-05.\n",
            "34/34 [==============================] - 53s 2s/step - loss: 0.2203 - categorical_accuracy: 0.9336 - val_loss: 2.7222 - val_categorical_accuracy: 0.2900 - lr: 2.0000e-04\n",
            "Epoch 11/20\n",
            "34/34 [==============================] - ETA: 0s - loss: 0.1867 - categorical_accuracy: 0.9517\n",
            "Epoch 11: saving model to model_init_2022-05-1422_19_53.823618/model-00011-0.18671-0.95173-2.60992-0.38000.h5\n",
            "34/34 [==============================] - 53s 2s/step - loss: 0.1867 - categorical_accuracy: 0.9517 - val_loss: 2.6099 - val_categorical_accuracy: 0.3800 - lr: 4.0000e-05\n",
            "Epoch 12/20\n",
            "34/34 [==============================] - ETA: 0s - loss: 0.1481 - categorical_accuracy: 0.9744\n",
            "Epoch 12: saving model to model_init_2022-05-1422_19_53.823618/model-00012-0.14813-0.97436-2.55795-0.35000.h5\n",
            "34/34 [==============================] - 52s 2s/step - loss: 0.1481 - categorical_accuracy: 0.9744 - val_loss: 2.5580 - val_categorical_accuracy: 0.3500 - lr: 4.0000e-05\n",
            "Epoch 13/20\n",
            "34/34 [==============================] - ETA: 0s - loss: 0.1585 - categorical_accuracy: 0.9578\n",
            "Epoch 13: saving model to model_init_2022-05-1422_19_53.823618/model-00013-0.15851-0.95777-2.02249-0.43000.h5\n",
            "34/34 [==============================] - 53s 2s/step - loss: 0.1585 - categorical_accuracy: 0.9578 - val_loss: 2.0225 - val_categorical_accuracy: 0.4300 - lr: 4.0000e-05\n",
            "Epoch 14/20\n",
            "34/34 [==============================] - ETA: 0s - loss: 0.1750 - categorical_accuracy: 0.9532\n",
            "Epoch 14: saving model to model_init_2022-05-1422_19_53.823618/model-00014-0.17495-0.95324-1.78470-0.46000.h5\n",
            "\n",
            "Epoch 14: ReduceLROnPlateau reducing learning rate to 8.000000525498762e-06.\n",
            "34/34 [==============================] - 53s 2s/step - loss: 0.1750 - categorical_accuracy: 0.9532 - val_loss: 1.7847 - val_categorical_accuracy: 0.4600 - lr: 4.0000e-05\n",
            "Epoch 15/20\n",
            "34/34 [==============================] - ETA: 0s - loss: 0.1390 - categorical_accuracy: 0.9668\n",
            "Epoch 15: saving model to model_init_2022-05-1422_19_53.823618/model-00015-0.13899-0.96682-1.29687-0.61000.h5\n",
            "34/34 [==============================] - 53s 2s/step - loss: 0.1390 - categorical_accuracy: 0.9668 - val_loss: 1.2969 - val_categorical_accuracy: 0.6100 - lr: 8.0000e-06\n",
            "Epoch 16/20\n",
            "34/34 [==============================] - ETA: 0s - loss: 0.1256 - categorical_accuracy: 0.9759\n",
            "Epoch 16: saving model to model_init_2022-05-1422_19_53.823618/model-00016-0.12563-0.97587-0.93993-0.68000.h5\n",
            "34/34 [==============================] - 53s 2s/step - loss: 0.1256 - categorical_accuracy: 0.9759 - val_loss: 0.9399 - val_categorical_accuracy: 0.6800 - lr: 8.0000e-06\n",
            "Epoch 17/20\n",
            "34/34 [==============================] - ETA: 0s - loss: 0.1234 - categorical_accuracy: 0.9744\n",
            "Epoch 17: saving model to model_init_2022-05-1422_19_53.823618/model-00017-0.12337-0.97436-0.89514-0.68000.h5\n",
            "34/34 [==============================] - 53s 2s/step - loss: 0.1234 - categorical_accuracy: 0.9744 - val_loss: 0.8951 - val_categorical_accuracy: 0.6800 - lr: 8.0000e-06\n",
            "Epoch 18/20\n",
            "34/34 [==============================] - ETA: 0s - loss: 0.1328 - categorical_accuracy: 0.9713\n",
            "Epoch 18: saving model to model_init_2022-05-1422_19_53.823618/model-00018-0.13284-0.97134-0.48801-0.82000.h5\n",
            "34/34 [==============================] - 52s 2s/step - loss: 0.1328 - categorical_accuracy: 0.9713 - val_loss: 0.4880 - val_categorical_accuracy: 0.8200 - lr: 8.0000e-06\n",
            "Epoch 19/20\n",
            "34/34 [==============================] - ETA: 0s - loss: 0.1553 - categorical_accuracy: 0.9593\n",
            "Epoch 19: saving model to model_init_2022-05-1422_19_53.823618/model-00019-0.15533-0.95928-0.55962-0.81000.h5\n",
            "34/34 [==============================] - 53s 2s/step - loss: 0.1553 - categorical_accuracy: 0.9593 - val_loss: 0.5596 - val_categorical_accuracy: 0.8100 - lr: 8.0000e-06\n",
            "Epoch 20/20\n",
            "34/34 [==============================] - ETA: 0s - loss: 0.1361 - categorical_accuracy: 0.9668\n",
            "Epoch 20: saving model to model_init_2022-05-1422_19_53.823618/model-00020-0.13613-0.96682-0.63319-0.81000.h5\n",
            "34/34 [==============================] - 53s 2s/step - loss: 0.1361 - categorical_accuracy: 0.9668 - val_loss: 0.6332 - val_categorical_accuracy: 0.8100 - lr: 8.0000e-06\n"
          ]
        }
      ]
    },
    {
      "cell_type": "code",
      "source": [
        "plot(history_model4)"
      ],
      "metadata": {
        "id": "c82L8C4txk4N",
        "colab": {
          "base_uri": "https://localhost:8080/",
          "height": 265
        },
        "outputId": "e71e6693-2000-4f98-b38c-abf7b2ea3e6f"
      },
      "execution_count": null,
      "outputs": [
        {
          "output_type": "display_data",
          "data": {
            "text/plain": [
              "<Figure size 1080x288 with 2 Axes>"
            ],
            "image/png": "[encoded data removed]"
          },
          "metadata": {
            "needs_background": "light"
          }
        }
      ]
    },
    {
      "cell_type": "markdown",
      "source": [
        "### Transfer Learning\n"
      ],
      "metadata": {
        "id": "a0qa7QRfF1dB"
      }
    },
    {
      "cell_type": "markdown",
      "source": [
        "### MobileNet "
      ],
      "metadata": {
        "id": "vy-t5wyUGbQw"
      }
    },
    {
      "cell_type": "code",
      "source": [
        "from keras.applications import mobilenet"
      ],
      "metadata": {
        "id": "4qF1o-DdGBno"
      },
      "execution_count": 2,
      "outputs": []
    },
    {
      "cell_type": "code",
      "source": [
        "mobilenet_transfer = mobilenet.MobileNet(weights='imagenet', include_top=False)"
      ],
      "metadata": {
        "colab": {
          "base_uri": "https://localhost:8080/"
        },
        "id": "2mfLuVLaGjhC",
        "outputId": "391e6f5a-6653-4371-9f7a-5142c36e0e40"
      },
      "execution_count": 3,
      "outputs": [
        {
          "output_type": "stream",
          "name": "stdout",
          "text": [
            "WARNING:tensorflow:`input_shape` is undefined or non-square, or `rows` is not in [128, 160, 192, 224]. Weights for input shape (224, 224) will be loaded as the default.\n",
            "Downloading data from https://storage.googleapis.com/tensorflow/keras-applications/mobilenet/mobilenet_1_0_224_tf_no_top.h5\n",
            "17227776/17225924 [==============================] - 0s 0us/step\n",
            "17235968/17225924 [==============================] - 0s 0us/step\n"
          ]
        }
      ]
    },
    {
      "cell_type": "code",
      "source": [
        "#image properties \n",
        "image_height=120\n",
        "image_width=120\n",
        "channels=3\n",
        "num_classes=5\n",
        "total_frames=30\n",
        "frames_to_sample=16\n",
        "batch_size=5\n",
        "num_epochs=20\n",
        "dense_neurons=128\n",
        "lstm_cells=128\n",
        "dropout=0.25\n",
        "print ('# epochs =', num_epochs)"
      ],
      "metadata": {
        "colab": {
          "base_uri": "https://localhost:8080/"
        },
        "id": "of6_6tBqG2ni",
        "outputId": "90ec25ac-e9f0-45ec-ca99-d1594acb749e"
      },
      "execution_count": 5,
      "outputs": [
        {
          "output_type": "stream",
          "name": "stdout",
          "text": [
            "# epochs = 20\n"
          ]
        }
      ]
    },
    {
      "cell_type": "code",
      "source": [
        "model5 = Sequential()\n",
        "model5.add(TimeDistributed(mobilenet_transfer,input_shape=(frames_to_sample,image_height,image_width,channels)))\n",
        "for layer in model5.layers:\n",
        "   layer.trainable = False\n",
        "\n",
        "model5.add(TimeDistributed(BatchNormalization()))\n",
        "model5.add(TimeDistributed(MaxPooling2D((2, 2))))\n",
        "model5.add(TimeDistributed(Flatten()))\n",
        "model5.add(LSTM(lstm_cells))\n",
        "model5.add(Dropout(dropout))\n",
        "        \n",
        "model5.add(Dense(dense_neurons,activation='relu'))\n",
        "model5.add(Dropout(dropout))\n",
        "        \n",
        "model5.add(Dense(num_classes, activation='softmax'))\n",
        "        \n",
        "        \n",
        "optimiser = tf.optimizers.Adam()\n",
        "model5.compile(optimizer=optimiser, loss='categorical_crossentropy', metrics=['categorical_accuracy'])"
      ],
      "metadata": {
        "id": "KIO7SdW0H5Qq"
      },
      "execution_count": 13,
      "outputs": []
    },
    {
      "cell_type": "code",
      "source": [
        "model5.summary()"
      ],
      "metadata": {
        "colab": {
          "base_uri": "https://localhost:8080/"
        },
        "id": "eiZUOTXsSlJ8",
        "outputId": "ce2147fd-a762-4ad8-af39-54b764ad8f92"
      },
      "execution_count": 14,
      "outputs": [
        {
          "output_type": "stream",
          "name": "stdout",
          "text": [
            "Model: \"sequential_2\"\n",
            "_________________________________________________________________\n",
            " Layer (type)                Output Shape              Param #   \n",
            "=================================================================\n",
            " time_distributed_8 (TimeDis  (None, 16, 3, 3, 1024)   3228864   \n",
            " tributed)                                                       \n",
            "                                                                 \n",
            " time_distributed_9 (TimeDis  (None, 16, 3, 3, 1024)   4096      \n",
            " tributed)                                                       \n",
            "                                                                 \n",
            " time_distributed_10 (TimeDi  (None, 16, 1, 1, 1024)   0         \n",
            " stributed)                                                      \n",
            "                                                                 \n",
            " time_distributed_11 (TimeDi  (None, 16, 1024)         0         \n",
            " stributed)                                                      \n",
            "                                                                 \n",
            " lstm_2 (LSTM)               (None, 128)               590336    \n",
            "                                                                 \n",
            " dropout_4 (Dropout)         (None, 128)               0         \n",
            "                                                                 \n",
            " dense_4 (Dense)             (None, 128)               16512     \n",
            "                                                                 \n",
            " dropout_5 (Dropout)         (None, 128)               0         \n",
            "                                                                 \n",
            " dense_5 (Dense)             (None, 5)                 645       \n",
            "                                                                 \n",
            "=================================================================\n",
            "Total params: 3,840,453\n",
            "Trainable params: 609,541\n",
            "Non-trainable params: 3,230,912\n",
            "_________________________________________________________________\n"
          ]
        }
      ]
    },
    {
      "cell_type": "code",
      "source": [
        "print(\"Total Params:\", model5.count_params())"
      ],
      "metadata": {
        "colab": {
          "base_uri": "https://localhost:8080/"
        },
        "id": "mGu_BMatSobN",
        "outputId": "c44e8d4f-d75d-4193-c524-7cfc1e5c4d62"
      },
      "execution_count": 16,
      "outputs": [
        {
          "output_type": "stream",
          "name": "stdout",
          "text": [
            "Total Params: 3840453\n"
          ]
        }
      ]
    },
    {
      "cell_type": "code",
      "source": [
        "train_generator = generator(train_path, train_doc, batch_size)\n",
        "val_generator = generator(val_path, val_doc, batch_size)"
      ],
      "metadata": {
        "id": "2ewAadnlSwo4"
      },
      "execution_count": 27,
      "outputs": []
    },
    {
      "cell_type": "code",
      "source": [
        "model_name = 'model_init' + '_' + str(curr_dt_time).replace(' ','').replace(':','_') + '/'\n",
        "    \n",
        "if not os.path.exists(model_name):\n",
        "    os.mkdir(model_name)\n",
        "        \n",
        "filepath = model_name + 'model-{epoch:05d}-{loss:.5f}-{categorical_accuracy:.5f}-{val_loss:.5f}-{val_categorical_accuracy:.5f}.h5'\n",
        "\n",
        "checkpoint = ModelCheckpoint(filepath, monitor='val_loss', verbose=1, save_best_only=False, save_weights_only=False, mode='auto', period=1)\n",
        "\n",
        "LR = ReduceLROnPlateau(monitor='val_loss', factor=0.2, verbose=1, patience=4)\n",
        "callbacks_list = [checkpoint, LR]"
      ],
      "metadata": {
        "colab": {
          "base_uri": "https://localhost:8080/"
        },
        "id": "OEeMHxm8Tau5",
        "outputId": "73b87a4a-4f3b-453e-a272-da24d68ce554"
      },
      "execution_count": 28,
      "outputs": [
        {
          "output_type": "stream",
          "name": "stdout",
          "text": [
            "WARNING:tensorflow:`period` argument is deprecated. Please use `save_freq` to specify the frequency in number of batches seen.\n"
          ]
        }
      ]
    },
    {
      "cell_type": "code",
      "source": [
        ""
      ],
      "metadata": {
        "id": "cAscrQp1JZD3"
      },
      "execution_count": null,
      "outputs": []
    },
    {
      "cell_type": "code",
      "source": [
        "if (num_train_sequences%batch_size) == 0:\n",
        "    steps_per_epoch = int(num_train_sequences/batch_size)\n",
        "else:\n",
        "    steps_per_epoch = (num_train_sequences//batch_size) + 1\n",
        "\n",
        "if (num_val_sequences%batch_size) == 0:\n",
        "    validation_steps = int(num_val_sequences/batch_size)\n",
        "else:\n",
        "    validation_steps = (num_val_sequences//batch_size) + 1"
      ],
      "metadata": {
        "id": "MYIlphSyUXyu"
      },
      "execution_count": 34,
      "outputs": []
    },
    {
      "cell_type": "code",
      "source": [
        "history_model5 = model5.fit_generator(train_generator, steps_per_epoch=steps_per_epoch, epochs=num_epochs, verbose=1, \n",
        "                    callbacks=callbacks_list, validation_data=val_generator, \n",
        "                    validation_steps=validation_steps, class_weight=None, workers=1, initial_epoch=0)"
      ],
      "metadata": {
        "colab": {
          "base_uri": "https://localhost:8080/"
        },
        "id": "ae86OHJ3Uqwb",
        "outputId": "e6cd9cfe-99ca-45f0-a476-028f93ac5ab2"
      },
      "execution_count": 35,
      "outputs": [
        {
          "output_type": "stream",
          "name": "stdout",
          "text": [
            "Source path =  /content/gdrive/My Drive/Colab Notebooks/GestureRecognition/Project/Project_data/train ; batch size = 20\n",
            "Epoch 1/20\n",
            "34/34 [==============================] - ETA: 0s - loss: 1.4170 - categorical_accuracy: 0.4148  Source path =  /content/gdrive/My Drive/Colab Notebooks/GestureRecognition/Project/Project_data/val ; batch size = 20\n",
            "\n",
            "Epoch 1: saving model to model_init_2022-05-1510_40_50.432138/model-00001-1.41703-0.41478-1.05859-0.62000.h5\n",
            "34/34 [==============================] - 8202s 248s/step - loss: 1.4170 - categorical_accuracy: 0.4148 - val_loss: 1.0586 - val_categorical_accuracy: 0.6200 - lr: 0.0010\n",
            "Epoch 2/20\n",
            "34/34 [==============================] - ETA: 0s - loss: 0.7355 - categorical_accuracy: 0.7511\n",
            "Epoch 2: saving model to model_init_2022-05-1510_40_50.432138/model-00002-0.73553-0.75113-0.69933-0.76000.h5\n",
            "34/34 [==============================] - 46s 1s/step - loss: 0.7355 - categorical_accuracy: 0.7511 - val_loss: 0.6993 - val_categorical_accuracy: 0.7600 - lr: 0.0010\n",
            "Epoch 3/20\n",
            "34/34 [==============================] - ETA: 0s - loss: 0.3572 - categorical_accuracy: 0.8944\n",
            "Epoch 3: saving model to model_init_2022-05-1510_40_50.432138/model-00003-0.35719-0.89442-0.71227-0.73000.h5\n",
            "34/34 [==============================] - 46s 1s/step - loss: 0.3572 - categorical_accuracy: 0.8944 - val_loss: 0.7123 - val_categorical_accuracy: 0.7300 - lr: 0.0010\n",
            "Epoch 4/20\n",
            "34/34 [==============================] - ETA: 0s - loss: 0.1932 - categorical_accuracy: 0.9502\n",
            "Epoch 4: saving model to model_init_2022-05-1510_40_50.432138/model-00004-0.19318-0.95023-0.80536-0.73000.h5\n",
            "34/34 [==============================] - 46s 1s/step - loss: 0.1932 - categorical_accuracy: 0.9502 - val_loss: 0.8054 - val_categorical_accuracy: 0.7300 - lr: 0.0010\n",
            "Epoch 5/20\n",
            "34/34 [==============================] - ETA: 0s - loss: 0.1133 - categorical_accuracy: 0.9668\n",
            "Epoch 5: saving model to model_init_2022-05-1510_40_50.432138/model-00005-0.11334-0.96682-0.53122-0.84000.h5\n",
            "34/34 [==============================] - 47s 1s/step - loss: 0.1133 - categorical_accuracy: 0.9668 - val_loss: 0.5312 - val_categorical_accuracy: 0.8400 - lr: 0.0010\n",
            "Epoch 6/20\n",
            "34/34 [==============================] - ETA: 0s - loss: 0.1138 - categorical_accuracy: 0.9653\n",
            "Epoch 6: saving model to model_init_2022-05-1510_40_50.432138/model-00006-0.11377-0.96531-0.70200-0.79000.h5\n",
            "34/34 [==============================] - 46s 1s/step - loss: 0.1138 - categorical_accuracy: 0.9653 - val_loss: 0.7020 - val_categorical_accuracy: 0.7900 - lr: 0.0010\n",
            "Epoch 7/20\n",
            "34/34 [==============================] - ETA: 0s - loss: 0.0539 - categorical_accuracy: 0.9879\n",
            "Epoch 7: saving model to model_init_2022-05-1510_40_50.432138/model-00007-0.05393-0.98793-0.77646-0.77000.h5\n",
            "34/34 [==============================] - 46s 1s/step - loss: 0.0539 - categorical_accuracy: 0.9879 - val_loss: 0.7765 - val_categorical_accuracy: 0.7700 - lr: 0.0010\n",
            "Epoch 8/20\n",
            "34/34 [==============================] - ETA: 0s - loss: 0.0272 - categorical_accuracy: 0.9955\n",
            "Epoch 8: saving model to model_init_2022-05-1510_40_50.432138/model-00008-0.02717-0.99548-0.91220-0.74000.h5\n",
            "34/34 [==============================] - 46s 1s/step - loss: 0.0272 - categorical_accuracy: 0.9955 - val_loss: 0.9122 - val_categorical_accuracy: 0.7400 - lr: 0.0010\n",
            "Epoch 9/20\n",
            "34/34 [==============================] - ETA: 0s - loss: 0.0251 - categorical_accuracy: 0.9970\n",
            "Epoch 9: saving model to model_init_2022-05-1510_40_50.432138/model-00009-0.02512-0.99698-0.79405-0.79000.h5\n",
            "\n",
            "Epoch 9: ReduceLROnPlateau reducing learning rate to 0.00020000000949949026.\n",
            "34/34 [==============================] - 45s 1s/step - loss: 0.0251 - categorical_accuracy: 0.9970 - val_loss: 0.7941 - val_categorical_accuracy: 0.7900 - lr: 0.0010\n",
            "Epoch 10/20\n",
            "34/34 [==============================] - ETA: 0s - loss: 0.0222 - categorical_accuracy: 0.9925\n",
            "Epoch 10: saving model to model_init_2022-05-1510_40_50.432138/model-00010-0.02223-0.99246-0.77235-0.79000.h5\n",
            "34/34 [==============================] - 46s 1s/step - loss: 0.0222 - categorical_accuracy: 0.9925 - val_loss: 0.7723 - val_categorical_accuracy: 0.7900 - lr: 2.0000e-04\n",
            "Epoch 11/20\n",
            "34/34 [==============================] - ETA: 0s - loss: 0.0175 - categorical_accuracy: 0.9970\n",
            "Epoch 11: saving model to model_init_2022-05-1510_40_50.432138/model-00011-0.01754-0.99698-0.78206-0.80000.h5\n",
            "34/34 [==============================] - 46s 1s/step - loss: 0.0175 - categorical_accuracy: 0.9970 - val_loss: 0.7821 - val_categorical_accuracy: 0.8000 - lr: 2.0000e-04\n",
            "Epoch 12/20\n",
            "34/34 [==============================] - ETA: 0s - loss: 0.0109 - categorical_accuracy: 1.0000\n",
            "Epoch 12: saving model to model_init_2022-05-1510_40_50.432138/model-00012-0.01086-1.00000-0.83039-0.80000.h5\n",
            "34/34 [==============================] - 47s 1s/step - loss: 0.0109 - categorical_accuracy: 1.0000 - val_loss: 0.8304 - val_categorical_accuracy: 0.8000 - lr: 2.0000e-04\n",
            "Epoch 13/20\n",
            "34/34 [==============================] - ETA: 0s - loss: 0.0081 - categorical_accuracy: 1.0000\n",
            "Epoch 13: saving model to model_init_2022-05-1510_40_50.432138/model-00013-0.00806-1.00000-0.79821-0.77000.h5\n",
            "\n",
            "Epoch 13: ReduceLROnPlateau reducing learning rate to 4.0000001899898055e-05.\n",
            "34/34 [==============================] - 46s 1s/step - loss: 0.0081 - categorical_accuracy: 1.0000 - val_loss: 0.7982 - val_categorical_accuracy: 0.7700 - lr: 2.0000e-04\n",
            "Epoch 14/20\n",
            "34/34 [==============================] - ETA: 0s - loss: 0.0090 - categorical_accuracy: 1.0000\n",
            "Epoch 14: saving model to model_init_2022-05-1510_40_50.432138/model-00014-0.00905-1.00000-0.72049-0.80000.h5\n",
            "34/34 [==============================] - 46s 1s/step - loss: 0.0090 - categorical_accuracy: 1.0000 - val_loss: 0.7205 - val_categorical_accuracy: 0.8000 - lr: 4.0000e-05\n",
            "Epoch 15/20\n",
            "34/34 [==============================] - ETA: 0s - loss: 0.0071 - categorical_accuracy: 1.0000\n",
            "Epoch 15: saving model to model_init_2022-05-1510_40_50.432138/model-00015-0.00705-1.00000-0.73447-0.77000.h5\n",
            "34/34 [==============================] - 46s 1s/step - loss: 0.0071 - categorical_accuracy: 1.0000 - val_loss: 0.7345 - val_categorical_accuracy: 0.7700 - lr: 4.0000e-05\n",
            "Epoch 16/20\n",
            "34/34 [==============================] - ETA: 0s - loss: 0.0068 - categorical_accuracy: 1.0000\n",
            "Epoch 16: saving model to model_init_2022-05-1510_40_50.432138/model-00016-0.00677-1.00000-0.75453-0.79000.h5\n",
            "34/34 [==============================] - 46s 1s/step - loss: 0.0068 - categorical_accuracy: 1.0000 - val_loss: 0.7545 - val_categorical_accuracy: 0.7900 - lr: 4.0000e-05\n",
            "Epoch 17/20\n",
            "34/34 [==============================] - ETA: 0s - loss: 0.0082 - categorical_accuracy: 1.0000\n",
            "Epoch 17: saving model to model_init_2022-05-1510_40_50.432138/model-00017-0.00815-1.00000-0.63731-0.82000.h5\n",
            "\n",
            "Epoch 17: ReduceLROnPlateau reducing learning rate to 8.000000525498762e-06.\n",
            "34/34 [==============================] - 46s 1s/step - loss: 0.0082 - categorical_accuracy: 1.0000 - val_loss: 0.6373 - val_categorical_accuracy: 0.8200 - lr: 4.0000e-05\n",
            "Epoch 18/20\n",
            "34/34 [==============================] - ETA: 0s - loss: 0.0100 - categorical_accuracy: 1.0000\n",
            "Epoch 18: saving model to model_init_2022-05-1510_40_50.432138/model-00018-0.00996-1.00000-0.70864-0.82000.h5\n",
            "34/34 [==============================] - 46s 1s/step - loss: 0.0100 - categorical_accuracy: 1.0000 - val_loss: 0.7086 - val_categorical_accuracy: 0.8200 - lr: 8.0000e-06\n",
            "Epoch 19/20\n",
            "34/34 [==============================] - ETA: 0s - loss: 0.0092 - categorical_accuracy: 0.9985\n",
            "Epoch 19: saving model to model_init_2022-05-1510_40_50.432138/model-00019-0.00921-0.99849-0.81009-0.80000.h5\n",
            "34/34 [==============================] - 46s 1s/step - loss: 0.0092 - categorical_accuracy: 0.9985 - val_loss: 0.8101 - val_categorical_accuracy: 0.8000 - lr: 8.0000e-06\n",
            "Epoch 20/20\n",
            "34/34 [==============================] - ETA: 0s - loss: 0.0110 - categorical_accuracy: 0.9985\n",
            "Epoch 20: saving model to model_init_2022-05-1510_40_50.432138/model-00020-0.01096-0.99849-0.64679-0.79000.h5\n",
            "34/34 [==============================] - 46s 1s/step - loss: 0.0110 - categorical_accuracy: 0.9985 - val_loss: 0.6468 - val_categorical_accuracy: 0.7900 - lr: 8.0000e-06\n"
          ]
        }
      ]
    },
    {
      "cell_type": "code",
      "source": [
        "plot(history_model5)"
      ],
      "metadata": {
        "colab": {
          "base_uri": "https://localhost:8080/",
          "height": 265
        },
        "id": "zsjMi6R8Jd0O",
        "outputId": "5b128946-2969-48c0-8730-7e53941966d7"
      },
      "execution_count": 38,
      "outputs": [
        {
          "output_type": "display_data",
          "data": {
            "text/plain": [
              "<Figure size 1080x288 with 2 Axes>"
            ],
            "image/png": "[encoded data removed]"
          },
          "metadata": {
            "needs_background": "light"
          }
        }
      ]
    },
    {
      "cell_type": "markdown",
      "source": [
        "### Model6"
      ],
      "metadata": {
        "id": "voTrIfnsNv32"
      }
    },
    {
      "cell_type": "markdown",
      "source": [
        "### RestNet  with Transfer Learning"
      ],
      "metadata": {
        "id": "gy5e-KF_OMsy"
      }
    },
    {
      "cell_type": "code",
      "source": [
        "from tensorflow.keras.models import Model, load_model\n",
        "from tensorflow.keras.preprocessing import image\n",
        "from tensorflow.keras.applications import ResNet50\n",
        "from tensorflow.keras.applications.resnet50 import preprocess_input\n",
        "from tensorflow.keras.layers import Input, Add,Dropout, Dense, Activation, ZeroPadding2D, BatchNormalization, Flatten, Conv2D, AveragePooling2D,MaxPooling2D, GlobalAveragePooling2D"
      ],
      "metadata": {
        "id": "KjAez6LoPa1T"
      },
      "execution_count": 3,
      "outputs": []
    },
    {
      "cell_type": "code",
      "source": [
        "#image properties \n",
        "image_height=120\n",
        "image_width=120\n",
        "channels=3\n",
        "num_classes=5\n",
        "total_frames=30\n",
        "frames_to_sample=16\n",
        "batch_size=5\n",
        "num_epochs=20\n",
        "dense_neurons=128\n",
        "lstm_cells=128\n",
        "dropout=0.25\n",
        "print ('# epochs =', num_epochs)"
      ],
      "metadata": {
        "colab": {
          "base_uri": "https://localhost:8080/"
        },
        "id": "rFSOoCebOQ3P",
        "outputId": "f2d2cd90-3543-466d-d601-b58e96016be0"
      },
      "execution_count": 4,
      "outputs": [
        {
          "output_type": "stream",
          "name": "stdout",
          "text": [
            "# epochs = 20\n"
          ]
        }
      ]
    },
    {
      "cell_type": "code",
      "source": [
        "base_model = ResNet50(weights='imagenet', include_top=False)"
      ],
      "metadata": {
        "colab": {
          "base_uri": "https://localhost:8080/"
        },
        "id": "0ioFXsh5P4Xn",
        "outputId": "ed04627c-7648-4b8c-cdf2-d92799b3e28b"
      },
      "execution_count": 5,
      "outputs": [
        {
          "output_type": "stream",
          "name": "stdout",
          "text": [
            "Downloading data from https://storage.googleapis.com/tensorflow/keras-applications/resnet/resnet50_weights_tf_dim_ordering_tf_kernels_notop.h5\n",
            "94773248/94765736 [==============================] - 0s 0us/step\n",
            "94781440/94765736 [==============================] - 0s 0us/step\n"
          ]
        }
      ]
    },
    {
      "cell_type": "code",
      "source": [
        "model6 = Sequential()\n",
        "model6.add(TimeDistributed(base_model,input_shape=(frames_to_sample,image_height,image_width,channels)))\n",
        "for layer in model6.layers:\n",
        "   layer.trainable = False\n",
        "  \n",
        "model6.add(TimeDistributed(BatchNormalization()))\n",
        "model6.add(TimeDistributed(MaxPooling2D((2, 2))))\n",
        "model6.add(TimeDistributed(Flatten()))\n",
        "model6.add(LSTM(lstm_cells))\n",
        "model6.add(Dropout(dropout))\n",
        "        \n",
        "model6.add(Dense(dense_neurons,activation='relu'))\n",
        "model6.add(Dropout(dropout))\n",
        "        \n",
        "model6.add(Dense(num_classes, activation='softmax'))\n",
        "        \n",
        "optimiser = 'adam'\n",
        "        #optimiser = 'sgd'\n",
        "model6.compile(optimizer=optimiser, loss='categorical_crossentropy', metrics=['categorical_accuracy'])\n",
        "model6.summary()"
      ],
      "metadata": {
        "colab": {
          "base_uri": "https://localhost:8080/"
        },
        "id": "vdw04kF3QBg6",
        "outputId": "6efad32a-c212-4bce-bbc5-cff54f732ee9"
      },
      "execution_count": 8,
      "outputs": [
        {
          "output_type": "stream",
          "name": "stdout",
          "text": [
            "Model: \"sequential\"\n",
            "_________________________________________________________________\n",
            " Layer (type)                Output Shape              Param #   \n",
            "=================================================================\n",
            " time_distributed (TimeDistr  (None, 16, 4, 4, 2048)   23587712  \n",
            " ibuted)                                                         \n",
            "                                                                 \n",
            " time_distributed_1 (TimeDis  (None, 16, 4, 4, 2048)   8192      \n",
            " tributed)                                                       \n",
            "                                                                 \n",
            " time_distributed_2 (TimeDis  (None, 16, 2, 2, 2048)   0         \n",
            " tributed)                                                       \n",
            "                                                                 \n",
            " time_distributed_3 (TimeDis  (None, 16, 8192)         0         \n",
            " tributed)                                                       \n",
            "                                                                 \n",
            " lstm (LSTM)                 (None, 128)               4260352   \n",
            "                                                                 \n",
            " dropout (Dropout)           (None, 128)               0         \n",
            "                                                                 \n",
            " dense (Dense)               (None, 128)               16512     \n",
            "                                                                 \n",
            " dropout_1 (Dropout)         (None, 128)               0         \n",
            "                                                                 \n",
            " dense_1 (Dense)             (None, 5)                 645       \n",
            "                                                                 \n",
            "=================================================================\n",
            "Total params: 27,873,413\n",
            "Trainable params: 4,281,605\n",
            "Non-trainable params: 23,591,808\n",
            "_________________________________________________________________\n"
          ]
        }
      ]
    },
    {
      "cell_type": "code",
      "source": [
        "print(\"Total Params:\", model6.count_params())"
      ],
      "metadata": {
        "colab": {
          "base_uri": "https://localhost:8080/"
        },
        "id": "4ngGmWQsTiaz",
        "outputId": "f13d7a97-62a5-44b8-ea54-c6c15cd94150"
      },
      "execution_count": 9,
      "outputs": [
        {
          "output_type": "stream",
          "name": "stdout",
          "text": [
            "Total Params: 27873413\n"
          ]
        }
      ]
    },
    {
      "cell_type": "code",
      "source": [
        "train_generator = generator(train_path, train_doc, batch_size)\n",
        "val_generator = generator(val_path, val_doc, batch_size)"
      ],
      "metadata": {
        "id": "H8EWasc_TlGe"
      },
      "execution_count": 24,
      "outputs": []
    },
    {
      "cell_type": "code",
      "source": [
        "model_name = 'model_init' + '_' + str(curr_dt_time).replace(' ','').replace(':','_') + '/'\n",
        "    \n",
        "if not os.path.exists(model_name):\n",
        "    os.mkdir(model_name)\n",
        "        \n",
        "filepath = model_name + 'model-{epoch:05d}-{loss:.5f}-{categorical_accuracy:.5f}-{val_loss:.5f}-{val_categorical_accuracy:.5f}.h5'\n",
        "\n",
        "checkpoint = ModelCheckpoint(filepath, monitor='val_loss', verbose=1, save_best_only=False, save_weights_only=False, mode='auto', period=1)\n",
        "\n",
        "LR = ReduceLROnPlateau(monitor='val_loss', factor=0.2, verbose=1, patience=4)\n",
        "#callbacks_list = [checkpoint, LR]\n",
        "callbacks_list =[checkpoint, LR]"
      ],
      "metadata": {
        "colab": {
          "base_uri": "https://localhost:8080/"
        },
        "id": "R_IPWeAGTyJe",
        "outputId": "d342fdaf-a737-4186-c73b-c412c1ca175b"
      },
      "execution_count": 28,
      "outputs": [
        {
          "output_type": "stream",
          "name": "stdout",
          "text": [
            "WARNING:tensorflow:`period` argument is deprecated. Please use `save_freq` to specify the frequency in number of batches seen.\n"
          ]
        }
      ]
    },
    {
      "cell_type": "code",
      "source": [
        "if (num_train_sequences%batch_size) == 0:\n",
        "    steps_per_epoch = int(num_train_sequences/batch_size)\n",
        "else:\n",
        "    steps_per_epoch = (num_train_sequences//batch_size) + 1\n",
        "\n",
        "if (num_val_sequences%batch_size) == 0:\n",
        "    validation_steps = int(num_val_sequences/batch_size)\n",
        "else:\n",
        "    validation_steps = (num_val_sequences//batch_size) + 1"
      ],
      "metadata": {
        "id": "_RjFRYYOUFy1"
      },
      "execution_count": 34,
      "outputs": []
    },
    {
      "cell_type": "code",
      "source": [
        "history_model6 = model6.fit_generator(train_generator, steps_per_epoch=steps_per_epoch, epochs=num_epochs, verbose=1, \n",
        "                    callbacks=callbacks_list, validation_data=val_generator, \n",
        "                    validation_steps=validation_steps, class_weight=None, workers=1, initial_epoch=0)"
      ],
      "metadata": {
        "colab": {
          "base_uri": "https://localhost:8080/"
        },
        "id": "wkQW4592UXsU",
        "outputId": "eeb31f88-4546-4f54-fa14-817bc50c864a"
      },
      "execution_count": 35,
      "outputs": [
        {
          "output_type": "stream",
          "name": "stdout",
          "text": [
            "Source path =  /content/gdrive/My Drive/Colab Notebooks/GestureRecognition/Project/Project_data/train ; batch size = 20\n",
            "Epoch 1/20\n",
            "34/34 [==============================] - ETA: 0s - loss: 1.5384 - categorical_accuracy: 0.2836  Source path =  /content/gdrive/My Drive/Colab Notebooks/GestureRecognition/Project/Project_data/val ; batch size = 20\n",
            "\n",
            "Epoch 1: saving model to model_init_2022-05-1519_52_59.500549/model-00001-1.53836-0.28356-1.51678-0.29000.h5\n",
            "34/34 [==============================] - 5988s 181s/step - loss: 1.5384 - categorical_accuracy: 0.2836 - val_loss: 1.5168 - val_categorical_accuracy: 0.2900 - lr: 0.0010\n",
            "Epoch 2/20\n",
            "34/34 [==============================] - ETA: 0s - loss: 1.4082 - categorical_accuracy: 0.3680\n",
            "Epoch 2: saving model to model_init_2022-05-1519_52_59.500549/model-00002-1.40825-0.36802-1.51568-0.25000.h5\n",
            "34/34 [==============================] - 49s 1s/step - loss: 1.4082 - categorical_accuracy: 0.3680 - val_loss: 1.5157 - val_categorical_accuracy: 0.2500 - lr: 0.0010\n",
            "Epoch 3/20\n",
            "34/34 [==============================] - ETA: 0s - loss: 1.3211 - categorical_accuracy: 0.4284\n",
            "Epoch 3: saving model to model_init_2022-05-1519_52_59.500549/model-00003-1.32108-0.42836-1.34480-0.45000.h5\n",
            "34/34 [==============================] - 49s 1s/step - loss: 1.3211 - categorical_accuracy: 0.4284 - val_loss: 1.3448 - val_categorical_accuracy: 0.4500 - lr: 0.0010\n",
            "Epoch 4/20\n",
            "34/34 [==============================] - ETA: 0s - loss: 1.2406 - categorical_accuracy: 0.4736\n",
            "Epoch 4: saving model to model_init_2022-05-1519_52_59.500549/model-00004-1.24059-0.47360-1.37701-0.43000.h5\n",
            "34/34 [==============================] - 49s 1s/step - loss: 1.2406 - categorical_accuracy: 0.4736 - val_loss: 1.3770 - val_categorical_accuracy: 0.4300 - lr: 0.0010\n",
            "Epoch 5/20\n",
            "34/34 [==============================] - ETA: 0s - loss: 1.2030 - categorical_accuracy: 0.5158\n",
            "Epoch 5: saving model to model_init_2022-05-1519_52_59.500549/model-00005-1.20303-0.51584-1.24925-0.53000.h5\n",
            "34/34 [==============================] - 49s 1s/step - loss: 1.2030 - categorical_accuracy: 0.5158 - val_loss: 1.2492 - val_categorical_accuracy: 0.5300 - lr: 0.0010\n",
            "Epoch 6/20\n",
            "34/34 [==============================] - ETA: 0s - loss: 1.1984 - categorical_accuracy: 0.5128\n",
            "Epoch 6: saving model to model_init_2022-05-1519_52_59.500549/model-00006-1.19845-0.51282-1.28416-0.43000.h5\n",
            "34/34 [==============================] - 49s 1s/step - loss: 1.1984 - categorical_accuracy: 0.5128 - val_loss: 1.2842 - val_categorical_accuracy: 0.4300 - lr: 0.0010\n",
            "Epoch 7/20\n",
            "34/34 [==============================] - ETA: 0s - loss: 1.1212 - categorical_accuracy: 0.5686\n",
            "Epoch 7: saving model to model_init_2022-05-1519_52_59.500549/model-00007-1.12121-0.56863-1.35349-0.42000.h5\n",
            "34/34 [==============================] - 49s 1s/step - loss: 1.1212 - categorical_accuracy: 0.5686 - val_loss: 1.3535 - val_categorical_accuracy: 0.4200 - lr: 0.0010\n",
            "Epoch 8/20\n",
            "34/34 [==============================] - ETA: 0s - loss: 1.0321 - categorical_accuracy: 0.5958\n",
            "Epoch 8: saving model to model_init_2022-05-1519_52_59.500549/model-00008-1.03212-0.59578-1.37966-0.46000.h5\n",
            "34/34 [==============================] - 49s 1s/step - loss: 1.0321 - categorical_accuracy: 0.5958 - val_loss: 1.3797 - val_categorical_accuracy: 0.4600 - lr: 0.0010\n",
            "Epoch 9/20\n",
            "34/34 [==============================] - ETA: 0s - loss: 1.0052 - categorical_accuracy: 0.6169\n",
            "Epoch 9: saving model to model_init_2022-05-1519_52_59.500549/model-00009-1.00520-0.61689-1.21483-0.51000.h5\n",
            "34/34 [==============================] - 48s 1s/step - loss: 1.0052 - categorical_accuracy: 0.6169 - val_loss: 1.2148 - val_categorical_accuracy: 0.5100 - lr: 0.0010\n",
            "Epoch 10/20\n",
            "34/34 [==============================] - ETA: 0s - loss: 0.9432 - categorical_accuracy: 0.6410\n",
            "Epoch 10: saving model to model_init_2022-05-1519_52_59.500549/model-00010-0.94315-0.64103-1.27197-0.50000.h5\n",
            "34/34 [==============================] - 49s 1s/step - loss: 0.9432 - categorical_accuracy: 0.6410 - val_loss: 1.2720 - val_categorical_accuracy: 0.5000 - lr: 0.0010\n",
            "Epoch 11/20\n",
            "34/34 [==============================] - ETA: 0s - loss: 0.9293 - categorical_accuracy: 0.6516\n",
            "Epoch 11: saving model to model_init_2022-05-1519_52_59.500549/model-00011-0.92931-0.65158-1.09770-0.53000.h5\n",
            "34/34 [==============================] - 49s 1s/step - loss: 0.9293 - categorical_accuracy: 0.6516 - val_loss: 1.0977 - val_categorical_accuracy: 0.5300 - lr: 0.0010\n",
            "Epoch 12/20\n",
            "34/34 [==============================] - ETA: 0s - loss: 0.8910 - categorical_accuracy: 0.6606\n",
            "Epoch 12: saving model to model_init_2022-05-1519_52_59.500549/model-00012-0.89097-0.66063-1.06110-0.55000.h5\n",
            "34/34 [==============================] - 49s 1s/step - loss: 0.8910 - categorical_accuracy: 0.6606 - val_loss: 1.0611 - val_categorical_accuracy: 0.5500 - lr: 0.0010\n",
            "Epoch 13/20\n",
            "34/34 [==============================] - ETA: 0s - loss: 0.7850 - categorical_accuracy: 0.7149\n",
            "Epoch 13: saving model to model_init_2022-05-1519_52_59.500549/model-00013-0.78502-0.71493-1.14009-0.44000.h5\n",
            "34/34 [==============================] - 49s 1s/step - loss: 0.7850 - categorical_accuracy: 0.7149 - val_loss: 1.1401 - val_categorical_accuracy: 0.4400 - lr: 0.0010\n",
            "Epoch 14/20\n",
            "34/34 [==============================] - ETA: 0s - loss: 0.7753 - categorical_accuracy: 0.7119\n",
            "Epoch 14: saving model to model_init_2022-05-1519_52_59.500549/model-00014-0.77534-0.71192-1.26241-0.50000.h5\n",
            "34/34 [==============================] - 49s 1s/step - loss: 0.7753 - categorical_accuracy: 0.7119 - val_loss: 1.2624 - val_categorical_accuracy: 0.5000 - lr: 0.0010\n",
            "Epoch 15/20\n",
            "34/34 [==============================] - ETA: 0s - loss: 0.7184 - categorical_accuracy: 0.7557\n",
            "Epoch 15: saving model to model_init_2022-05-1519_52_59.500549/model-00015-0.71838-0.75566-1.14848-0.53000.h5\n",
            "34/34 [==============================] - 49s 1s/step - loss: 0.7184 - categorical_accuracy: 0.7557 - val_loss: 1.1485 - val_categorical_accuracy: 0.5300 - lr: 0.0010\n",
            "Epoch 16/20\n",
            "34/34 [==============================] - ETA: 0s - loss: 0.7097 - categorical_accuracy: 0.7406\n",
            "Epoch 16: saving model to model_init_2022-05-1519_52_59.500549/model-00016-0.70971-0.74057-1.18248-0.58000.h5\n",
            "\n",
            "Epoch 16: ReduceLROnPlateau reducing learning rate to 0.00020000000949949026.\n",
            "34/34 [==============================] - 49s 1s/step - loss: 0.7097 - categorical_accuracy: 0.7406 - val_loss: 1.1825 - val_categorical_accuracy: 0.5800 - lr: 0.0010\n",
            "Epoch 17/20\n",
            "34/34 [==============================] - ETA: 0s - loss: 0.6163 - categorical_accuracy: 0.7677\n",
            "Epoch 17: saving model to model_init_2022-05-1519_52_59.500549/model-00017-0.61633-0.76772-1.16830-0.56000.h5\n",
            "34/34 [==============================] - 48s 1s/step - loss: 0.6163 - categorical_accuracy: 0.7677 - val_loss: 1.1683 - val_categorical_accuracy: 0.5600 - lr: 2.0000e-04\n",
            "Epoch 18/20\n",
            "34/34 [==============================] - ETA: 0s - loss: 0.5614 - categorical_accuracy: 0.7934\n",
            "Epoch 18: saving model to model_init_2022-05-1519_52_59.500549/model-00018-0.56139-0.79336-1.24139-0.48000.h5\n",
            "34/34 [==============================] - 48s 1s/step - loss: 0.5614 - categorical_accuracy: 0.7934 - val_loss: 1.2414 - val_categorical_accuracy: 0.4800 - lr: 2.0000e-04\n",
            "Epoch 19/20\n",
            "34/34 [==============================] - ETA: 0s - loss: 0.5269 - categorical_accuracy: 0.8265\n",
            "Epoch 19: saving model to model_init_2022-05-1519_52_59.500549/model-00019-0.52694-0.82655-1.20402-0.58000.h5\n",
            "34/34 [==============================] - 49s 1s/step - loss: 0.5269 - categorical_accuracy: 0.8265 - val_loss: 1.2040 - val_categorical_accuracy: 0.5800 - lr: 2.0000e-04\n",
            "Epoch 20/20\n",
            "34/34 [==============================] - ETA: 0s - loss: 0.5082 - categorical_accuracy: 0.8115\n",
            "Epoch 20: saving model to model_init_2022-05-1519_52_59.500549/model-00020-0.50821-0.81146-1.07052-0.61000.h5\n",
            "\n",
            "Epoch 20: ReduceLROnPlateau reducing learning rate to 4.0000001899898055e-05.\n",
            "34/34 [==============================] - 49s 1s/step - loss: 0.5082 - categorical_accuracy: 0.8115 - val_loss: 1.0705 - val_categorical_accuracy: 0.6100 - lr: 2.0000e-04\n"
          ]
        }
      ]
    },
    {
      "cell_type": "code",
      "source": [
        "plot(history_model6)"
      ],
      "metadata": {
        "colab": {
          "base_uri": "https://localhost:8080/",
          "height": 265
        },
        "id": "BCsGE6js8jXx",
        "outputId": "5ef4d7a8-a39c-43f1-9bd4-fee98013b8b7"
      },
      "execution_count": 39,
      "outputs": [
        {
          "output_type": "display_data",
          "data": {
            "text/plain": [
              "<Figure size 1080x288 with 2 Axes>"
            ],
            "image/png": "[encoded data removed]"
          },
          "metadata": {
            "needs_background": "light"
          }
        }
      ]
    },
    {
      "cell_type": "code",
      "source": [
        ""
      ],
      "metadata": {
        "id": "dk-FO4Ug8pV1"
      },
      "execution_count": null,
      "outputs": []
    }
  ],
  "metadata": {
    "kernelspec": {
      "display_name": "Python 3",
      "language": "python",
      "name": "python3"
    },
    "language_info": {
      "codemirror_mode": {
        "name": "ipython",
        "version": 3
      },
      "file_extension": ".py",
      "mimetype": "text/x-python",
      "name": "python",
      "nbconvert_exporter": "python",
      "pygments_lexer": "ipython3",
      "version": "3.6.5"
    },
    "colab": {
      "name": "Neural_Nets_Project_Starter_Code.ipynb",
      "provenance": [],
      "collapsed_sections": [],
      "machine_shape": "hm"
    },
    "accelerator": "GPU"
  },
  "nbformat": 4,
  "nbformat_minor": 0
}